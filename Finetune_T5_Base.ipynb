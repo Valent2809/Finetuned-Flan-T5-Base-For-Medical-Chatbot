{
 "cells": [
  {
   "cell_type": "code",
   "execution_count": null,
   "id": "6f7029d3-6d3d-44fd-80f3-e2720a0ef209",
   "metadata": {},
   "outputs": [],
   "source": [
    "!pip3 install -q -U bitsandbytes transformers peft accelerate datasets scipy einops evaluate trl rouge_score"
   ]
  },
  {
   "cell_type": "code",
   "execution_count": null,
   "id": "a39e99d0-6b56-4d06-b0b6-644983268f5f",
   "metadata": {},
   "outputs": [],
   "source": [
    "!pip3 install pandas matplotlib "
   ]
  },
  {
   "cell_type": "code",
   "execution_count": null,
   "id": "49a9e771-cddb-4c97-b2dc-d480800f0fe2",
   "metadata": {},
   "outputs": [],
   "source": [
    "!pip3 install tf-keras==2.16.0"
   ]
  },
  {
   "cell_type": "code",
   "execution_count": null,
   "id": "f5d782f2-ad85-406e-9315-bccabf38b177",
   "metadata": {},
   "outputs": [],
   "source": [
    "!pip3 install --pre torch torchvision torchaudio --index-url https://download.pytorch.org/whl/nightly/cu121"
   ]
  },
  {
   "cell_type": "code",
   "execution_count": null,
   "id": "59684aa2-fcf5-4b8a-a095-1dd490045614",
   "metadata": {},
   "outputs": [],
   "source": [
    "!pip3 install pynvml gradio"
   ]
  },
  {
   "cell_type": "code",
   "execution_count": null,
   "id": "a31a8438-1b1a-4d5c-92f7-9b086a54bf07",
   "metadata": {},
   "outputs": [],
   "source": [
    "!pip3 install SentencePiece"
   ]
  },
  {
   "cell_type": "code",
   "execution_count": null,
   "id": "9099cc80-60f2-4c7d-8742-cdefd3946387",
   "metadata": {},
   "outputs": [],
   "source": [
    "import nltk\n",
    "nltk.data.path.append('../nltk_data')\n",
    "nltk.download('punkt_tab')\n",
    "nltk.download(\"punkt\")"
   ]
  },
  {
   "cell_type": "code",
   "execution_count": 1,
   "id": "4cffecc6-e36f-462d-af55-caf3d14f2138",
   "metadata": {},
   "outputs": [
    {
     "name": "stderr",
     "output_type": "stream",
     "text": [
      "/common/home/projectgrps/CS425/CS425G12/jupyterlab-venv-pytorch-240/lib/python3.11/site-packages/tqdm/auto.py:21: TqdmWarning: IProgress not found. Please update jupyter and ipywidgets. See https://ipywidgets.readthedocs.io/en/stable/user_install.html\n",
      "  from .autonotebook import tqdm as notebook_tqdm\n",
      "2024-11-13 17:04:28.596807: E external/local_xla/xla/stream_executor/cuda/cuda_fft.cc:479] Unable to register cuFFT factory: Attempting to register factory for plugin cuFFT when one has already been registered\n",
      "2024-11-13 17:04:28.622648: E external/local_xla/xla/stream_executor/cuda/cuda_dnn.cc:10575] Unable to register cuDNN factory: Attempting to register factory for plugin cuDNN when one has already been registered\n",
      "2024-11-13 17:04:28.622714: E external/local_xla/xla/stream_executor/cuda/cuda_blas.cc:1442] Unable to register cuBLAS factory: Attempting to register factory for plugin cuBLAS when one has already been registered\n",
      "2024-11-13 17:04:28.640889: I tensorflow/core/platform/cpu_feature_guard.cc:210] This TensorFlow binary is optimized to use available CPU instructions in performance-critical operations.\n",
      "To enable the following instructions: AVX2 FMA, in other operations, rebuild TensorFlow with the appropriate compiler flags.\n",
      "2024-11-13 17:04:30.065263: W tensorflow/compiler/tf2tensorrt/utils/py_utils.cc:38] TF-TRT Warning: Could not find TensorRT\n"
     ]
    }
   ],
   "source": [
    "# Import the necessary libraries\n",
    "import nltk\n",
    "from datasets import load_dataset\n",
    "import evaluate\n",
    "import numpy as np\n",
    "from transformers import T5Tokenizer, DataCollatorForSeq2Seq\n",
    "from transformers import T5ForConditionalGeneration, Seq2SeqTrainingArguments, Seq2SeqTrainer"
   ]
  },
  {
   "cell_type": "code",
   "execution_count": 2,
   "id": "5ab126a5-bc54-44bb-b3ed-8e5cddc30cd2",
   "metadata": {},
   "outputs": [],
   "source": [
    "from pynvml import *\n",
    "\n",
    "def print_gpu_utilization():\n",
    "    nvmlInit()\n",
    "    handle = nvmlDeviceGetHandleByIndex(0)\n",
    "    info = nvmlDeviceGetMemoryInfo(handle)\n",
    "    print(f\"GPU memory occupied: {info.used//1024**2} MB.\")"
   ]
  },
  {
   "cell_type": "code",
   "execution_count": 3,
   "id": "76ccff3d-8493-4429-9282-24f832946670",
   "metadata": {},
   "outputs": [
    {
     "name": "stdout",
     "output_type": "stream",
     "text": [
      "GPU memory occupied: 1788 MB.\n"
     ]
    }
   ],
   "source": [
    "print_gpu_utilization()"
   ]
  },
  {
   "cell_type": "code",
   "execution_count": 4,
   "id": "6430cd7b-90be-442f-a121-5b0fcf2c0583",
   "metadata": {},
   "outputs": [],
   "source": [
    "import pandas as pd\n",
    "train = pd.read_csv(\"train_data_cleaned.csv\")\n",
    "val = pd.read_csv(\"validation_data_cleaned.csv\")"
   ]
  },
  {
   "cell_type": "code",
   "execution_count": 5,
   "id": "402d706a-e471-47a2-b386-7dba1183d98d",
   "metadata": {},
   "outputs": [],
   "source": [
    "train = train.iloc[0:3000].copy()\n",
    "val = val.iloc[0:300].copy()"
   ]
  },
  {
   "cell_type": "code",
   "execution_count": 6,
   "id": "e2dd7580-b1bb-4473-8eab-3b26da7d8dc9",
   "metadata": {},
   "outputs": [
    {
     "name": "stdout",
     "output_type": "stream",
     "text": [
      "                                         short_question  \\\n",
      "0     can an antibiotic through an iv give you a ras...   \n",
      "1     can you test positive from having the hep b va...   \n",
      "2     what are the dietary restrictions for celiac d...   \n",
      "3     i have had a pneumonia shot can i get either a...   \n",
      "4     my baby ate her on poop my baby ate poop 4 day...   \n",
      "...                                                 ...   \n",
      "2995  is inhaling clorox dangerous if you had a pneu...   \n",
      "2996  what treatment is suggested for non dysplasia ...   \n",
      "2997               what are the risks of genital herpes   \n",
      "2998  my periods have always been weird – never norm...   \n",
      "2999  what can cause prolonged male discharge  my hu...   \n",
      "\n",
      "                                           short_answer  \\\n",
      "0     yes it can even after you have finished the pr...   \n",
      "1     test positive for what if you had a hep b vacc...   \n",
      "2     omitting gluten from the diet is the key to co...   \n",
      "3     you can always catch an illness from a child b...   \n",
      "4     hi one of ours did that she is now 47 and a mu...   \n",
      "...                                                 ...   \n",
      "2995  i think so because when i have used clorox in ...   \n",
      "2996  the simple answer to this question is that at ...   \n",
      "2997  genital herpes is rarely life threatening but ...   \n",
      "2998  while it is uncommon to conceive after having ...   \n",
      "2999  it could be prostatitis or something more seri...   \n",
      "\n",
      "                                                   tags  label  \n",
      "0                                 ['rash' 'antibiotic']    1.0  \n",
      "1                                       ['hepatitis b']    1.0  \n",
      "2                                    ['celiac disease']    1.0  \n",
      "3             ['pneumonia' 'sinus infection' 'walking']    1.0  \n",
      "4            ['baby' 'cough' 'fever' 'coldness' 'cold']    1.0  \n",
      "...                                                 ...    ...  \n",
      "2995                  ['pneumonia' 'antibiotic' 'lung']    1.0  \n",
      "2996  ['esophagus' 'endoscopy' 'corpulence' 'smoking...    1.0  \n",
      "2997                                 ['genital herpes']    1.0  \n",
      "2998                                               ['']    1.0  \n",
      "2999            ['sexually transmitted disease' 'pain']    1.0  \n",
      "\n",
      "[3000 rows x 4 columns]\n"
     ]
    }
   ],
   "source": [
    "print(train)"
   ]
  },
  {
   "cell_type": "code",
   "execution_count": 7,
   "id": "389e2e44-e652-468c-994e-a197d604f375",
   "metadata": {
    "scrolled": true
   },
   "outputs": [
    {
     "data": {
      "text/plain": [
       "Dataset({\n",
       "    features: ['short_question', 'short_answer', 'tags', 'label'],\n",
       "    num_rows: 3000\n",
       "})"
      ]
     },
     "execution_count": 7,
     "metadata": {},
     "output_type": "execute_result"
    }
   ],
   "source": [
    "from datasets import load_dataset\n",
    "from datasets import Dataset\n",
    "train = Dataset.from_pandas(train)\n",
    "train"
   ]
  },
  {
   "cell_type": "code",
   "execution_count": 8,
   "id": "f296c5a3-6ddc-49c0-bb31-405d89f69d66",
   "metadata": {},
   "outputs": [
    {
     "data": {
      "text/plain": [
       "Dataset({\n",
       "    features: ['short_question', 'short_answer', 'tags', 'label'],\n",
       "    num_rows: 300\n",
       "})"
      ]
     },
     "execution_count": 8,
     "metadata": {},
     "output_type": "execute_result"
    }
   ],
   "source": [
    "val = Dataset.from_pandas(val)\n",
    "val"
   ]
  },
  {
   "cell_type": "code",
   "execution_count": 9,
   "id": "6b0fbc02-4520-41cd-b65d-dc67950dc34a",
   "metadata": {},
   "outputs": [
    {
     "name": "stderr",
     "output_type": "stream",
     "text": [
      "You are using the default legacy behaviour of the <class 'transformers.models.t5.tokenization_t5.T5Tokenizer'>. This is expected, and simply means that the `legacy` (previous) behavior will be used so nothing changes for you. If you want to use the new behaviour, set `legacy=False`. This should only be set if you understand what it means, and thoroughly read the reason why this was added as explained in https://github.com/huggingface/transformers/pull/24565\n"
     ]
    }
   ],
   "source": [
    "# Load the tokenizer, model, and data collator\n",
    "tokenizer = T5Tokenizer.from_pretrained(\"google-t5/t5-base\")\n",
    "model = T5ForConditionalGeneration.from_pretrained(\"google-t5/t5-base\")\n",
    "data_collator = DataCollatorForSeq2Seq(tokenizer=tokenizer, model=model)"
   ]
  },
  {
   "cell_type": "code",
   "execution_count": 10,
   "id": "c997a2c9-638a-4734-ae1c-04b9141c5d0c",
   "metadata": {},
   "outputs": [
    {
     "name": "stdout",
     "output_type": "stream",
     "text": [
      "trainable model parameters: 222903552\n",
      "all model parameters: 222903552\n",
      "percentage of trainable model parameters: 100.00%\n"
     ]
    }
   ],
   "source": [
    "def print_number_of_trainable_model_parameters(model_name):\n",
    "    trainable_model_params = 0\n",
    "    all_model_params = 0\n",
    "    for _, param in model.named_parameters():\n",
    "        all_model_params += param.numel()\n",
    "        if param.requires_grad:\n",
    "            trainable_model_params += param.numel()\n",
    "    return f\"trainable model parameters: {trainable_model_params}\\nall model parameters: {all_model_params}\\npercentage of trainable model parameters: {100 * trainable_model_params / all_model_params:.2f}%\"\n",
    "\n",
    "print(print_number_of_trainable_model_parameters(model))"
   ]
  },
  {
   "cell_type": "code",
   "execution_count": 11,
   "id": "80f1a277-95a6-44f2-a76b-abdacdf12dcb",
   "metadata": {},
   "outputs": [
    {
     "name": "stdout",
     "output_type": "stream",
     "text": [
      "T5ForConditionalGeneration(\n",
      "  (shared): Embedding(32128, 768)\n",
      "  (encoder): T5Stack(\n",
      "    (embed_tokens): Embedding(32128, 768)\n",
      "    (block): ModuleList(\n",
      "      (0): T5Block(\n",
      "        (layer): ModuleList(\n",
      "          (0): T5LayerSelfAttention(\n",
      "            (SelfAttention): T5Attention(\n",
      "              (q): Linear(in_features=768, out_features=768, bias=False)\n",
      "              (k): Linear(in_features=768, out_features=768, bias=False)\n",
      "              (v): Linear(in_features=768, out_features=768, bias=False)\n",
      "              (o): Linear(in_features=768, out_features=768, bias=False)\n",
      "              (relative_attention_bias): Embedding(32, 12)\n",
      "            )\n",
      "            (layer_norm): T5LayerNorm()\n",
      "            (dropout): Dropout(p=0.1, inplace=False)\n",
      "          )\n",
      "          (1): T5LayerFF(\n",
      "            (DenseReluDense): T5DenseActDense(\n",
      "              (wi): Linear(in_features=768, out_features=3072, bias=False)\n",
      "              (wo): Linear(in_features=3072, out_features=768, bias=False)\n",
      "              (dropout): Dropout(p=0.1, inplace=False)\n",
      "              (act): ReLU()\n",
      "            )\n",
      "            (layer_norm): T5LayerNorm()\n",
      "            (dropout): Dropout(p=0.1, inplace=False)\n",
      "          )\n",
      "        )\n",
      "      )\n",
      "      (1-11): 11 x T5Block(\n",
      "        (layer): ModuleList(\n",
      "          (0): T5LayerSelfAttention(\n",
      "            (SelfAttention): T5Attention(\n",
      "              (q): Linear(in_features=768, out_features=768, bias=False)\n",
      "              (k): Linear(in_features=768, out_features=768, bias=False)\n",
      "              (v): Linear(in_features=768, out_features=768, bias=False)\n",
      "              (o): Linear(in_features=768, out_features=768, bias=False)\n",
      "            )\n",
      "            (layer_norm): T5LayerNorm()\n",
      "            (dropout): Dropout(p=0.1, inplace=False)\n",
      "          )\n",
      "          (1): T5LayerFF(\n",
      "            (DenseReluDense): T5DenseActDense(\n",
      "              (wi): Linear(in_features=768, out_features=3072, bias=False)\n",
      "              (wo): Linear(in_features=3072, out_features=768, bias=False)\n",
      "              (dropout): Dropout(p=0.1, inplace=False)\n",
      "              (act): ReLU()\n",
      "            )\n",
      "            (layer_norm): T5LayerNorm()\n",
      "            (dropout): Dropout(p=0.1, inplace=False)\n",
      "          )\n",
      "        )\n",
      "      )\n",
      "    )\n",
      "    (final_layer_norm): T5LayerNorm()\n",
      "    (dropout): Dropout(p=0.1, inplace=False)\n",
      "  )\n",
      "  (decoder): T5Stack(\n",
      "    (embed_tokens): Embedding(32128, 768)\n",
      "    (block): ModuleList(\n",
      "      (0): T5Block(\n",
      "        (layer): ModuleList(\n",
      "          (0): T5LayerSelfAttention(\n",
      "            (SelfAttention): T5Attention(\n",
      "              (q): Linear(in_features=768, out_features=768, bias=False)\n",
      "              (k): Linear(in_features=768, out_features=768, bias=False)\n",
      "              (v): Linear(in_features=768, out_features=768, bias=False)\n",
      "              (o): Linear(in_features=768, out_features=768, bias=False)\n",
      "              (relative_attention_bias): Embedding(32, 12)\n",
      "            )\n",
      "            (layer_norm): T5LayerNorm()\n",
      "            (dropout): Dropout(p=0.1, inplace=False)\n",
      "          )\n",
      "          (1): T5LayerCrossAttention(\n",
      "            (EncDecAttention): T5Attention(\n",
      "              (q): Linear(in_features=768, out_features=768, bias=False)\n",
      "              (k): Linear(in_features=768, out_features=768, bias=False)\n",
      "              (v): Linear(in_features=768, out_features=768, bias=False)\n",
      "              (o): Linear(in_features=768, out_features=768, bias=False)\n",
      "            )\n",
      "            (layer_norm): T5LayerNorm()\n",
      "            (dropout): Dropout(p=0.1, inplace=False)\n",
      "          )\n",
      "          (2): T5LayerFF(\n",
      "            (DenseReluDense): T5DenseActDense(\n",
      "              (wi): Linear(in_features=768, out_features=3072, bias=False)\n",
      "              (wo): Linear(in_features=3072, out_features=768, bias=False)\n",
      "              (dropout): Dropout(p=0.1, inplace=False)\n",
      "              (act): ReLU()\n",
      "            )\n",
      "            (layer_norm): T5LayerNorm()\n",
      "            (dropout): Dropout(p=0.1, inplace=False)\n",
      "          )\n",
      "        )\n",
      "      )\n",
      "      (1-11): 11 x T5Block(\n",
      "        (layer): ModuleList(\n",
      "          (0): T5LayerSelfAttention(\n",
      "            (SelfAttention): T5Attention(\n",
      "              (q): Linear(in_features=768, out_features=768, bias=False)\n",
      "              (k): Linear(in_features=768, out_features=768, bias=False)\n",
      "              (v): Linear(in_features=768, out_features=768, bias=False)\n",
      "              (o): Linear(in_features=768, out_features=768, bias=False)\n",
      "            )\n",
      "            (layer_norm): T5LayerNorm()\n",
      "            (dropout): Dropout(p=0.1, inplace=False)\n",
      "          )\n",
      "          (1): T5LayerCrossAttention(\n",
      "            (EncDecAttention): T5Attention(\n",
      "              (q): Linear(in_features=768, out_features=768, bias=False)\n",
      "              (k): Linear(in_features=768, out_features=768, bias=False)\n",
      "              (v): Linear(in_features=768, out_features=768, bias=False)\n",
      "              (o): Linear(in_features=768, out_features=768, bias=False)\n",
      "            )\n",
      "            (layer_norm): T5LayerNorm()\n",
      "            (dropout): Dropout(p=0.1, inplace=False)\n",
      "          )\n",
      "          (2): T5LayerFF(\n",
      "            (DenseReluDense): T5DenseActDense(\n",
      "              (wi): Linear(in_features=768, out_features=3072, bias=False)\n",
      "              (wo): Linear(in_features=3072, out_features=768, bias=False)\n",
      "              (dropout): Dropout(p=0.1, inplace=False)\n",
      "              (act): ReLU()\n",
      "            )\n",
      "            (layer_norm): T5LayerNorm()\n",
      "            (dropout): Dropout(p=0.1, inplace=False)\n",
      "          )\n",
      "        )\n",
      "      )\n",
      "    )\n",
      "    (final_layer_norm): T5LayerNorm()\n",
      "    (dropout): Dropout(p=0.1, inplace=False)\n",
      "  )\n",
      "  (lm_head): Linear(in_features=768, out_features=32128, bias=False)\n",
      ")\n"
     ]
    }
   ],
   "source": [
    "print(model)"
   ]
  },
  {
   "cell_type": "code",
   "execution_count": 12,
   "id": "a44bc574-7186-4330-ad4b-7bc680e1f78f",
   "metadata": {},
   "outputs": [
    {
     "name": "stderr",
     "output_type": "stream",
     "text": [
      "Map: 100%|██████████| 3000/3000 [00:01<00:00, 1756.65 examples/s]\n",
      "Map: 100%|██████████| 300/300 [00:00<00:00, 1737.69 examples/s]\n"
     ]
    }
   ],
   "source": [
    "# We prefix our tasks with \"answer the question\"\n",
    "prefix = \"answer the medical question: \"\n",
    "\n",
    "# Define our preprocessing function\n",
    "def preprocess_function(examples):\n",
    "    \"\"\"Add prefix to the sentences, tokenize the text, and set the labels\"\"\"\n",
    "    # The \"inputs\" are the tokenized answer:\n",
    "     # Drop unnecessary columns\n",
    "    examples.pop('tags', None)  # Remove 'tags' column if it exists\n",
    "    examples.pop('label', None)  # Remove 'label' column if it exists\n",
    "    inputs = [prefix + doc for doc in examples[\"short_question\"]]\n",
    "    model_inputs = tokenizer(inputs, max_length=128, truncation=True, padding='max_length')\n",
    "    \n",
    "    # The \"labels\" are the tokenized outputs:\n",
    "    labels = tokenizer(text_target=examples[\"short_answer\"], max_length=512, truncation=True, padding='max_length')\n",
    "    model_inputs[\"labels\"] = labels[\"input_ids\"]\n",
    "    return model_inputs\n",
    "\n",
    "# Map the preprocessing function across our dataset\n",
    "tokenized_train = train.map(preprocess_function, batched=True)\n",
    "tokenized_val = val.map(preprocess_function, batched=True)"
   ]
  },
  {
   "cell_type": "code",
   "execution_count": 13,
   "id": "cc0e72e9-e08d-4461-8a99-8b8b30ef96b6",
   "metadata": {},
   "outputs": [
    {
     "name": "stdout",
     "output_type": "stream",
     "text": [
      "{'short_question': 'can an antibiotic through an iv give you a rash a couple days later', 'short_answer': 'yes it can even after you have finished the prescription for antibiotics', 'input_ids': [1525, 8, 1035, 822, 10, 54, 46, 14458, 190, 46, 3, 23, 208, 428, 25, 3, 9, 3, 12380, 3, 9, 1158, 477, 865, 1, 0, 0, 0, 0, 0, 0, 0, 0, 0, 0, 0, 0, 0, 0, 0, 0, 0, 0, 0, 0, 0, 0, 0, 0, 0, 0, 0, 0, 0, 0, 0, 0, 0, 0, 0, 0, 0, 0, 0, 0, 0, 0, 0, 0, 0, 0, 0, 0, 0, 0, 0, 0, 0, 0, 0, 0, 0, 0, 0, 0, 0, 0, 0, 0, 0, 0, 0, 0, 0, 0, 0, 0, 0, 0, 0, 0, 0, 0, 0, 0, 0, 0, 0, 0, 0, 0, 0, 0, 0, 0, 0, 0, 0, 0, 0, 0, 0, 0, 0, 0, 0, 0, 0], 'attention_mask': [1, 1, 1, 1, 1, 1, 1, 1, 1, 1, 1, 1, 1, 1, 1, 1, 1, 1, 1, 1, 1, 1, 1, 1, 1, 0, 0, 0, 0, 0, 0, 0, 0, 0, 0, 0, 0, 0, 0, 0, 0, 0, 0, 0, 0, 0, 0, 0, 0, 0, 0, 0, 0, 0, 0, 0, 0, 0, 0, 0, 0, 0, 0, 0, 0, 0, 0, 0, 0, 0, 0, 0, 0, 0, 0, 0, 0, 0, 0, 0, 0, 0, 0, 0, 0, 0, 0, 0, 0, 0, 0, 0, 0, 0, 0, 0, 0, 0, 0, 0, 0, 0, 0, 0, 0, 0, 0, 0, 0, 0, 0, 0, 0, 0, 0, 0, 0, 0, 0, 0, 0, 0, 0, 0, 0, 0, 0, 0], 'labels': [4273, 34, 54, 237, 227, 25, 43, 2369, 8, 7744, 21, 14458, 7, 1, 0, 0, 0, 0, 0, 0, 0, 0, 0, 0, 0, 0, 0, 0, 0, 0, 0, 0, 0, 0, 0, 0, 0, 0, 0, 0, 0, 0, 0, 0, 0, 0, 0, 0, 0, 0, 0, 0, 0, 0, 0, 0, 0, 0, 0, 0, 0, 0, 0, 0, 0, 0, 0, 0, 0, 0, 0, 0, 0, 0, 0, 0, 0, 0, 0, 0, 0, 0, 0, 0, 0, 0, 0, 0, 0, 0, 0, 0, 0, 0, 0, 0, 0, 0, 0, 0, 0, 0, 0, 0, 0, 0, 0, 0, 0, 0, 0, 0, 0, 0, 0, 0, 0, 0, 0, 0, 0, 0, 0, 0, 0, 0, 0, 0, 0, 0, 0, 0, 0, 0, 0, 0, 0, 0, 0, 0, 0, 0, 0, 0, 0, 0, 0, 0, 0, 0, 0, 0, 0, 0, 0, 0, 0, 0, 0, 0, 0, 0, 0, 0, 0, 0, 0, 0, 0, 0, 0, 0, 0, 0, 0, 0, 0, 0, 0, 0, 0, 0, 0, 0, 0, 0, 0, 0, 0, 0, 0, 0, 0, 0, 0, 0, 0, 0, 0, 0, 0, 0, 0, 0, 0, 0, 0, 0, 0, 0, 0, 0, 0, 0, 0, 0, 0, 0, 0, 0, 0, 0, 0, 0, 0, 0, 0, 0, 0, 0, 0, 0, 0, 0, 0, 0, 0, 0, 0, 0, 0, 0, 0, 0, 0, 0, 0, 0, 0, 0, 0, 0, 0, 0, 0, 0, 0, 0, 0, 0, 0, 0, 0, 0, 0, 0, 0, 0, 0, 0, 0, 0, 0, 0, 0, 0, 0, 0, 0, 0, 0, 0, 0, 0, 0, 0, 0, 0, 0, 0, 0, 0, 0, 0, 0, 0, 0, 0, 0, 0, 0, 0, 0, 0, 0, 0, 0, 0, 0, 0, 0, 0, 0, 0, 0, 0, 0, 0, 0, 0, 0, 0, 0, 0, 0, 0, 0, 0, 0, 0, 0, 0, 0, 0, 0, 0, 0, 0, 0, 0, 0, 0, 0, 0, 0, 0, 0, 0, 0, 0, 0, 0, 0, 0, 0, 0, 0, 0, 0, 0, 0, 0, 0, 0, 0, 0, 0, 0, 0, 0, 0, 0, 0, 0, 0, 0, 0, 0, 0, 0, 0, 0, 0, 0, 0, 0, 0, 0, 0, 0, 0, 0, 0, 0, 0, 0, 0, 0, 0, 0, 0, 0, 0, 0, 0, 0, 0, 0, 0, 0, 0, 0, 0, 0, 0, 0, 0, 0, 0, 0, 0, 0, 0, 0, 0, 0, 0, 0, 0, 0, 0, 0, 0, 0, 0, 0, 0, 0, 0, 0, 0, 0, 0, 0, 0, 0, 0, 0, 0, 0, 0, 0, 0, 0, 0, 0, 0, 0, 0, 0, 0, 0, 0, 0, 0, 0, 0, 0, 0, 0, 0, 0, 0, 0, 0, 0, 0, 0, 0, 0, 0, 0, 0, 0, 0, 0, 0, 0, 0, 0, 0, 0, 0, 0, 0, 0, 0, 0, 0, 0, 0, 0, 0, 0, 0, 0, 0, 0, 0, 0, 0, 0]}\n"
     ]
    }
   ],
   "source": [
    "print(tokenized_train[0])"
   ]
  },
  {
   "cell_type": "code",
   "execution_count": 14,
   "id": "6fb78acc-ec82-420d-8dcc-973876e67e7e",
   "metadata": {},
   "outputs": [
    {
     "name": "stderr",
     "output_type": "stream",
     "text": [
      "[nltk_data] Downloading package punkt_tab to\n",
      "[nltk_data]     /common/home/projectgrps/CS425/CS425G12/nltk_data...\n",
      "[nltk_data]   Package punkt_tab is already up-to-date!\n",
      "[nltk_data] Downloading package punkt to\n",
      "[nltk_data]     /common/home/projectgrps/CS425/CS425G12/nltk_data...\n",
      "[nltk_data]   Package punkt is already up-to-date!\n"
     ]
    }
   ],
   "source": [
    "# Set up Rouge score for evaluation\n",
    "nltk.data.path.append('../nltk_data')\n",
    "nltk.download('punkt_tab')\n",
    "nltk.download(\"punkt\")\n",
    "metric = evaluate.load(\"rouge\")\n",
    "\n",
    "def compute_metrics(eval_preds):\n",
    "    preds, labels = eval_preds\n",
    "\n",
    "    # decode preds and labels\n",
    "    labels = np.where(labels != -100, labels, tokenizer.pad_token_id)\n",
    "    decoded_preds = tokenizer.batch_decode(preds, skip_special_tokens=True)\n",
    "    decoded_labels = tokenizer.batch_decode(labels, skip_special_tokens=True)\n",
    "\n",
    "    # rougeLSum expects newline after each sentence\n",
    "    decoded_preds = [\"\\n\".join(nltk.sent_tokenize(pred.strip())) for pred in decoded_preds]\n",
    "    decoded_labels = [\"\\n\".join(nltk.sent_tokenize(label.strip())) for label in decoded_labels]\n",
    "\n",
    "    result = metric.compute(predictions=decoded_preds, references=decoded_labels, use_stemmer=True)\n",
    "    return result"
   ]
  },
  {
   "cell_type": "code",
   "execution_count": 15,
   "id": "837470fd-9e7e-453d-8277-563c09d57b50",
   "metadata": {},
   "outputs": [
    {
     "name": "stdout",
     "output_type": "stream",
     "text": [
      "Punkt tokenizer is available.\n"
     ]
    }
   ],
   "source": [
    "try:\n",
    "    nltk.data.find('tokenizers/punkt')\n",
    "    print(\"Punkt tokenizer is available.\")\n",
    "except LookupError:\n",
    "    print(\"Punkt tokenizer is not available. You need to download it.\")"
   ]
  },
  {
   "cell_type": "code",
   "execution_count": 18,
   "id": "20ebe56d-2887-427b-a746-dc617467d0be",
   "metadata": {},
   "outputs": [
    {
     "name": "stderr",
     "output_type": "stream",
     "text": [
      "/common/home/projectgrps/CS425/CS425G12/jupyterlab-venv-pytorch-240/lib/python3.11/site-packages/transformers/training_args.py:1568: FutureWarning: `evaluation_strategy` is deprecated and will be removed in version 4.46 of 🤗 Transformers. Use `eval_strategy` instead\n",
      "  warnings.warn(\n",
      "/tmp/ipykernel_2570134/3017541016.py:22: FutureWarning: `tokenizer` is deprecated and will be removed in version 5.0.0 for `Seq2SeqTrainer.__init__`. Use `processing_class` instead.\n",
      "  trainer = Seq2SeqTrainer(\n",
      "Detected kernel version 4.18.0, which is below the recommended minimum of 5.5.0; this can cause the process to hang. It is recommended to upgrade the kernel to the minimum version or higher.\n"
     ]
    }
   ],
   "source": [
    "from transformers import Seq2SeqTrainer, Seq2SeqTrainingArguments\n",
    "\n",
    "# Set up training arguments with suggested changes\n",
    "training_args = Seq2SeqTrainingArguments(\n",
    "    output_dir=\"./31Oct_t5_base\",\n",
    "    evaluation_strategy=\"epoch\",\n",
    "    save_strategy=\"epoch\",  # Set save strategy to match evaluation strategy\n",
    "    learning_rate=2e-4,  # Adjusted learning rate\n",
    "    per_device_train_batch_size=8,\n",
    "    per_device_eval_batch_size=8,  # Increased evaluation batch size\n",
    "    weight_decay=0.1,  # Slightly increased weight decay\n",
    "    save_total_limit=3,\n",
    "    num_train_epochs=10,  # Reduced number of epochs for monitoring\n",
    "    predict_with_generate=True,\n",
    "    load_best_model_at_end=True,  # Load the best model at the end of training\n",
    "    metric_for_best_model='eval_loss',  # Metric to monitor\n",
    "    greater_is_better=False,  # False for loss\n",
    "    push_to_hub=False\n",
    ")\n",
    "\n",
    "# Set up trainer with TensorBoard callback\n",
    "trainer = Seq2SeqTrainer(\n",
    "    model=model,\n",
    "    args=training_args,\n",
    "    train_dataset=tokenized_train,\n",
    "    eval_dataset=tokenized_val,\n",
    "    tokenizer=tokenizer,\n",
    "    data_collator=data_collator,\n",
    "    compute_metrics=compute_metrics,\n",
    ")"
   ]
  },
  {
   "cell_type": "code",
   "execution_count": 19,
   "id": "53d15730-a406-4c16-83ba-ff50b54f3322",
   "metadata": {},
   "outputs": [
    {
     "name": "stderr",
     "output_type": "stream",
     "text": [
      "Passing a tuple of `past_key_values` is deprecated and will be removed in Transformers v4.48.0. You should pass an instance of `EncoderDecoderCache` instead, e.g. `past_key_values=EncoderDecoderCache.from_legacy_cache(past_key_values)`.\n"
     ]
    },
    {
     "data": {
      "text/html": [
       "\n",
       "    <div>\n",
       "      \n",
       "      <progress value='3750' max='3750' style='width:300px; height:20px; vertical-align: middle;'></progress>\n",
       "      [3750/3750 26:07, Epoch 10/10]\n",
       "    </div>\n",
       "    <table border=\"1\" class=\"dataframe\">\n",
       "  <thead>\n",
       " <tr style=\"text-align: left;\">\n",
       "      <th>Epoch</th>\n",
       "      <th>Training Loss</th>\n",
       "      <th>Validation Loss</th>\n",
       "      <th>Rouge1</th>\n",
       "      <th>Rouge2</th>\n",
       "      <th>Rougel</th>\n",
       "      <th>Rougelsum</th>\n",
       "    </tr>\n",
       "  </thead>\n",
       "  <tbody>\n",
       "    <tr>\n",
       "      <td>1</td>\n",
       "      <td>No log</td>\n",
       "      <td>0.692416</td>\n",
       "      <td>0.142256</td>\n",
       "      <td>0.025004</td>\n",
       "      <td>0.107564</td>\n",
       "      <td>0.107755</td>\n",
       "    </tr>\n",
       "    <tr>\n",
       "      <td>2</td>\n",
       "      <td>0.843300</td>\n",
       "      <td>0.672418</td>\n",
       "      <td>0.139995</td>\n",
       "      <td>0.024894</td>\n",
       "      <td>0.107018</td>\n",
       "      <td>0.107245</td>\n",
       "    </tr>\n",
       "    <tr>\n",
       "      <td>3</td>\n",
       "      <td>0.672400</td>\n",
       "      <td>0.664264</td>\n",
       "      <td>0.139207</td>\n",
       "      <td>0.026726</td>\n",
       "      <td>0.106676</td>\n",
       "      <td>0.106792</td>\n",
       "    </tr>\n",
       "    <tr>\n",
       "      <td>4</td>\n",
       "      <td>0.639300</td>\n",
       "      <td>0.661660</td>\n",
       "      <td>0.147559</td>\n",
       "      <td>0.029089</td>\n",
       "      <td>0.112074</td>\n",
       "      <td>0.111937</td>\n",
       "    </tr>\n",
       "    <tr>\n",
       "      <td>5</td>\n",
       "      <td>0.639300</td>\n",
       "      <td>0.661206</td>\n",
       "      <td>0.147592</td>\n",
       "      <td>0.028835</td>\n",
       "      <td>0.111169</td>\n",
       "      <td>0.110977</td>\n",
       "    </tr>\n",
       "    <tr>\n",
       "      <td>6</td>\n",
       "      <td>0.588000</td>\n",
       "      <td>0.663203</td>\n",
       "      <td>0.146694</td>\n",
       "      <td>0.028290</td>\n",
       "      <td>0.113950</td>\n",
       "      <td>0.113708</td>\n",
       "    </tr>\n",
       "    <tr>\n",
       "      <td>7</td>\n",
       "      <td>0.571100</td>\n",
       "      <td>0.665667</td>\n",
       "      <td>0.148186</td>\n",
       "      <td>0.029662</td>\n",
       "      <td>0.114419</td>\n",
       "      <td>0.114032</td>\n",
       "    </tr>\n",
       "    <tr>\n",
       "      <td>8</td>\n",
       "      <td>0.534500</td>\n",
       "      <td>0.668016</td>\n",
       "      <td>0.148571</td>\n",
       "      <td>0.031588</td>\n",
       "      <td>0.114867</td>\n",
       "      <td>0.114547</td>\n",
       "    </tr>\n",
       "    <tr>\n",
       "      <td>9</td>\n",
       "      <td>0.534500</td>\n",
       "      <td>0.671289</td>\n",
       "      <td>0.150346</td>\n",
       "      <td>0.031308</td>\n",
       "      <td>0.113242</td>\n",
       "      <td>0.112945</td>\n",
       "    </tr>\n",
       "    <tr>\n",
       "      <td>10</td>\n",
       "      <td>0.522000</td>\n",
       "      <td>0.672394</td>\n",
       "      <td>0.151662</td>\n",
       "      <td>0.031749</td>\n",
       "      <td>0.115946</td>\n",
       "      <td>0.115675</td>\n",
       "    </tr>\n",
       "  </tbody>\n",
       "</table><p>"
      ],
      "text/plain": [
       "<IPython.core.display.HTML object>"
      ]
     },
     "metadata": {},
     "output_type": "display_data"
    },
    {
     "name": "stderr",
     "output_type": "stream",
     "text": [
      "/common/home/projectgrps/CS425/CS425G12/jupyterlab-venv-pytorch-240/lib/python3.11/site-packages/transformers/generation/utils.py:1375: UserWarning: Using the model-agnostic default `max_length` (=20) to control the generation length. We recommend setting `max_new_tokens` to control the maximum length of the generation.\n",
      "  warnings.warn(\n",
      "/common/home/projectgrps/CS425/CS425G12/jupyterlab-venv-pytorch-240/lib/python3.11/site-packages/transformers/generation/utils.py:1375: UserWarning: Using the model-agnostic default `max_length` (=20) to control the generation length. We recommend setting `max_new_tokens` to control the maximum length of the generation.\n",
      "  warnings.warn(\n",
      "/common/home/projectgrps/CS425/CS425G12/jupyterlab-venv-pytorch-240/lib/python3.11/site-packages/transformers/generation/utils.py:1375: UserWarning: Using the model-agnostic default `max_length` (=20) to control the generation length. We recommend setting `max_new_tokens` to control the maximum length of the generation.\n",
      "  warnings.warn(\n",
      "/common/home/projectgrps/CS425/CS425G12/jupyterlab-venv-pytorch-240/lib/python3.11/site-packages/transformers/generation/utils.py:1375: UserWarning: Using the model-agnostic default `max_length` (=20) to control the generation length. We recommend setting `max_new_tokens` to control the maximum length of the generation.\n",
      "  warnings.warn(\n",
      "/common/home/projectgrps/CS425/CS425G12/jupyterlab-venv-pytorch-240/lib/python3.11/site-packages/transformers/generation/utils.py:1375: UserWarning: Using the model-agnostic default `max_length` (=20) to control the generation length. We recommend setting `max_new_tokens` to control the maximum length of the generation.\n",
      "  warnings.warn(\n",
      "/common/home/projectgrps/CS425/CS425G12/jupyterlab-venv-pytorch-240/lib/python3.11/site-packages/transformers/generation/utils.py:1375: UserWarning: Using the model-agnostic default `max_length` (=20) to control the generation length. We recommend setting `max_new_tokens` to control the maximum length of the generation.\n",
      "  warnings.warn(\n",
      "/common/home/projectgrps/CS425/CS425G12/jupyterlab-venv-pytorch-240/lib/python3.11/site-packages/transformers/generation/utils.py:1375: UserWarning: Using the model-agnostic default `max_length` (=20) to control the generation length. We recommend setting `max_new_tokens` to control the maximum length of the generation.\n",
      "  warnings.warn(\n",
      "/common/home/projectgrps/CS425/CS425G12/jupyterlab-venv-pytorch-240/lib/python3.11/site-packages/transformers/generation/utils.py:1375: UserWarning: Using the model-agnostic default `max_length` (=20) to control the generation length. We recommend setting `max_new_tokens` to control the maximum length of the generation.\n",
      "  warnings.warn(\n",
      "/common/home/projectgrps/CS425/CS425G12/jupyterlab-venv-pytorch-240/lib/python3.11/site-packages/transformers/generation/utils.py:1375: UserWarning: Using the model-agnostic default `max_length` (=20) to control the generation length. We recommend setting `max_new_tokens` to control the maximum length of the generation.\n",
      "  warnings.warn(\n",
      "/common/home/projectgrps/CS425/CS425G12/jupyterlab-venv-pytorch-240/lib/python3.11/site-packages/transformers/generation/utils.py:1375: UserWarning: Using the model-agnostic default `max_length` (=20) to control the generation length. We recommend setting `max_new_tokens` to control the maximum length of the generation.\n",
      "  warnings.warn(\n",
      "There were missing keys in the checkpoint model loaded: ['encoder.embed_tokens.weight', 'decoder.embed_tokens.weight', 'lm_head.weight'].\n"
     ]
    },
    {
     "data": {
      "text/plain": [
       "TrainOutput(global_step=3750, training_loss=0.6177615885416666, metrics={'train_runtime': 1568.0873, 'train_samples_per_second': 19.132, 'train_steps_per_second': 2.391, 'total_flos': 4567184179200000.0, 'train_loss': 0.6177615885416666, 'epoch': 10.0})"
      ]
     },
     "execution_count": 19,
     "metadata": {},
     "output_type": "execute_result"
    }
   ],
   "source": [
    "# Train the model\n",
    "trainer.train()"
   ]
  },
  {
   "cell_type": "code",
   "execution_count": 20,
   "id": "5abffc69-d821-4ca8-bd38-c66dcb0f1502",
   "metadata": {},
   "outputs": [
    {
     "name": "stderr",
     "output_type": "stream",
     "text": [
      "/common/home/projectgrps/CS425/CS425G12/jupyterlab-venv-pytorch-240/lib/python3.11/site-packages/transformers/generation/utils.py:1375: UserWarning: Using the model-agnostic default `max_length` (=20) to control the generation length. We recommend setting `max_new_tokens` to control the maximum length of the generation.\n",
      "  warnings.warn(\n"
     ]
    },
    {
     "data": {
      "text/html": [
       "\n",
       "    <div>\n",
       "      \n",
       "      <progress value='38' max='38' style='width:300px; height:20px; vertical-align: middle;'></progress>\n",
       "      [38/38 00:13]\n",
       "    </div>\n",
       "    "
      ],
      "text/plain": [
       "<IPython.core.display.HTML object>"
      ]
     },
     "metadata": {},
     "output_type": "display_data"
    },
    {
     "name": "stdout",
     "output_type": "stream",
     "text": [
      "Best Model Evaluation Results: {'eval_loss': 0.6612055897712708, 'eval_rouge1': 0.147592358390553, 'eval_rouge2': 0.028835230051705907, 'eval_rougeL': 0.11116924695849734, 'eval_rougeLsum': 0.11097735547559086, 'eval_runtime': 22.2115, 'eval_samples_per_second': 13.507, 'eval_steps_per_second': 1.711, 'epoch': 10.0}\n"
     ]
    }
   ],
   "source": [
    "# Evaluate the best model on the validation dataset\n",
    "eval_results = trainer.evaluate()\n",
    "\n",
    "# Display evaluation results\n",
    "print(\"Best Model Evaluation Results:\", eval_results)\n",
    "\n",
    "# Optionally save the best model\n",
    "trainer.save_model(\"./best_model_t5_base\")  # Use trainer's save_model method"
   ]
  },
  {
   "cell_type": "markdown",
   "id": "80ae3c89-3500-40f9-a09c-232ffcc975b2",
   "metadata": {},
   "source": [
    "# Plotting the graph"
   ]
  },
  {
   "cell_type": "code",
   "execution_count": 21,
   "id": "a6bd6658-98ff-4906-9d10-3659bd45aaf0",
   "metadata": {},
   "outputs": [
    {
     "data": {
      "image/png": "[encoded data removed]",
      "text/plain": [
       "<Figure size 640x480 with 1 Axes>"
      ]
     },
     "metadata": {},
     "output_type": "display_data"
    }
   ],
   "source": [
    "import pandas as pd\n",
    "import matplotlib.pyplot as plt\n",
    "\n",
    "# Define the data\n",
    "data = {\n",
    "    'Epoch': [1, 2, 3, 4, 5, 6, 7, 8, 9, 10],\n",
    "    'Training Loss': [None, 0.843300, 0.672400, 0.639300, 0.639300, 0.588000, 0.571100, 0.534500, 0.534500, 0.522000],\n",
    "    'Validation Loss': [0.692416, 0.672418, 0.664264, 0.661660, 0.661206, 0.663203, 0.665667, 0.668016, 0.671289, 0.672394],\n",
    "    'Rouge1': [0.142256, 0.139995, 0.139207, 0.147559, 0.147592, 0.146694, 0.148186, 0.148571, 0.150346, 0.151662],\n",
    "    'Rouge2': [0.025004, 0.024894, 0.026726, 0.029089, 0.028835, 0.028290, 0.029662, 0.031588, 0.031308, 0.031749],\n",
    "    'Rougel': [0.107564, 0.107018, 0.106676, 0.112074, 0.111169, 0.113950, 0.114419, 0.114867, 0.113242, 0.115946],\n",
    "    'Rougelsum': [0.107755, 0.107245, 0.106792, 0.111937, 0.110977, 0.113708, 0.114032, 0.114547, 0.112945, 0.115675]\n",
    "}\n",
    "\n",
    "# Create a DataFrame\n",
    "df = pd.DataFrame(data)\n",
    "\n",
    "# Plot Training and Validation Loss\n",
    "plt.plot(df['Epoch'], df['Training Loss'], marker='o', label='Training Loss', color='blue')\n",
    "plt.plot(df['Epoch'], df['Validation Loss'], marker='o', label='Validation Loss', color='orange')\n",
    "plt.title('Training and Validation Loss')\n",
    "plt.xlabel('Epoch')\n",
    "plt.ylabel('Loss')\n",
    "plt.legend()\n",
    "plt.grid()\n",
    "\n",
    "plt.tight_layout()\n",
    "plt.show()"
   ]
  },
  {
   "cell_type": "code",
   "execution_count": 22,
   "id": "7fb0ab68-f792-4ed5-855e-0dea20a077d1",
   "metadata": {},
   "outputs": [
    {
     "data": {
      "image/png": "[encoded data removed]",
      "text/plain": [
       "<Figure size 640x480 with 1 Axes>"
      ]
     },
     "metadata": {},
     "output_type": "display_data"
    }
   ],
   "source": [
    "plt.plot(df['Epoch'], df['Validation Loss'], marker='o', label='Validation Loss', color='orange')\n",
    "plt.title('Validation Loss')\n",
    "plt.xlabel('Epoch')\n",
    "plt.ylabel('Loss')\n",
    "plt.legend()\n",
    "plt.grid()\n",
    "plt.tight_layout()\n",
    "plt.show()"
   ]
  },
  {
   "cell_type": "code",
   "execution_count": 23,
   "id": "bd06f85c-8903-4a3d-abdb-f0e047fc1389",
   "metadata": {},
   "outputs": [
    {
     "data": {
      "image/png": "[encoded data removed]",
      "text/plain": [
       "<Figure size 640x480 with 1 Axes>"
      ]
     },
     "metadata": {},
     "output_type": "display_data"
    }
   ],
   "source": [
    "# Plot ROUGE Scores\n",
    "plt.plot(df['Epoch'], df['Rouge1'], marker='o', label='Rouge1', color='green')\n",
    "plt.plot(df['Epoch'], df['Rouge2'], marker='o', label='Rouge2', color='red')\n",
    "plt.plot(df['Epoch'], df['Rougel'], marker='x', label='Rougel', color='blue')  # Dashed line with transparency\n",
    "plt.plot(df['Epoch'], df['Rougelsum'], marker='o', label='Rougelsum', color='brown',alpha=0.5)  # Dotted line style\n",
    "plt.title('ROUGE Scores')\n",
    "plt.xlabel('Epoch')\n",
    "plt.ylabel('Score')\n",
    "plt.legend()\n",
    "plt.grid()"
   ]
  },
  {
   "cell_type": "code",
   "execution_count": 24,
   "id": "a821611b-1b66-4d52-9b05-91bf16c18e7a",
   "metadata": {},
   "outputs": [
    {
     "name": "stdout",
     "output_type": "stream",
     "text": [
      "GPU memory occupied: 14749 MB.\n"
     ]
    }
   ],
   "source": [
    "print_gpu_utilization()"
   ]
  },
  {
   "cell_type": "code",
   "execution_count": 25,
   "id": "ad7eed4d-fbe7-4a2a-b497-7cc376282fc4",
   "metadata": {},
   "outputs": [],
   "source": [
    "import torch\n",
    "# Free memory for merging weights if needed\n",
    "del model\n",
    "torch.cuda.empty_cache()"
   ]
  },
  {
   "cell_type": "code",
   "execution_count": 26,
   "id": "b16dd3a4-9f4c-4279-9f59-1397c2bab3c8",
   "metadata": {},
   "outputs": [
    {
     "name": "stdout",
     "output_type": "stream",
     "text": [
      "GPU memory occupied: 5427 MB.\n"
     ]
    }
   ],
   "source": [
    "print_gpu_utilization()"
   ]
  },
  {
   "cell_type": "markdown",
   "id": "92b33f5a-600c-4ab9-a0ef-9a63eb2f48b8",
   "metadata": {},
   "source": [
    "# Evaluation"
   ]
  },
  {
   "cell_type": "code",
   "execution_count": 27,
   "id": "e0ef817d-9416-46ec-b98d-e7b0dea70d72",
   "metadata": {},
   "outputs": [],
   "source": [
    "to_test = pd.read_csv(\"validation_data_cleaned.csv\")\n",
    "val_test = to_test.iloc[1:301].copy()"
   ]
  },
  {
   "cell_type": "code",
   "execution_count": 28,
   "id": "53b22d2d-b2e8-4259-830e-7abdd15d068a",
   "metadata": {},
   "outputs": [],
   "source": [
    "# Load models\n",
    "original_model = T5ForConditionalGeneration.from_pretrained(\"google-t5/t5-base\")\n",
    "fine_tuned_model = T5ForConditionalGeneration.from_pretrained(\"./best_model_t5_base\")\n",
    "\n",
    "# Load the tokenizer (same for both models)\n",
    "tokenizer = T5Tokenizer.from_pretrained(\"google-t5/t5-base\")"
   ]
  },
  {
   "cell_type": "code",
   "execution_count": 29,
   "id": "f3e33d17-3897-43fa-b6e6-3741224ba19c",
   "metadata": {},
   "outputs": [
    {
     "name": "stderr",
     "output_type": "stream",
     "text": [
      "Generating Outputs:   0%|          | 0/300 [00:00<?, ?it/s]Asking to truncate to max_length but no maximum length is provided and the model has no predefined maximum length. Default to no truncation.\n",
      "/common/home/projectgrps/CS425/CS425G12/jupyterlab-venv-pytorch-240/lib/python3.11/site-packages/transformers/generation/configuration_utils.py:595: UserWarning: `do_sample` is set to `False`. However, `top_p` is set to `0.95` -- this flag is only used in sample-based generation modes. You should set `do_sample=True` or unset `top_p`.\n",
      "  warnings.warn(\n",
      "Generating Outputs: 100%|██████████| 300/300 [17:47<00:00,  3.56s/it]\n"
     ]
    },
    {
     "data": {
      "text/html": [
       "<div>\n",
       "<style scoped>\n",
       "    .dataframe tbody tr th:only-of-type {\n",
       "        vertical-align: middle;\n",
       "    }\n",
       "\n",
       "    .dataframe tbody tr th {\n",
       "        vertical-align: top;\n",
       "    }\n",
       "\n",
       "    .dataframe thead th {\n",
       "        text-align: right;\n",
       "    }\n",
       "</style>\n",
       "<table border=\"1\" class=\"dataframe\">\n",
       "  <thead>\n",
       "    <tr style=\"text-align: right;\">\n",
       "      <th></th>\n",
       "      <th>Question</th>\n",
       "      <th>Human Answer</th>\n",
       "      <th>Original Model Answer</th>\n",
       "      <th>Fine-tuned Model Answer</th>\n",
       "    </tr>\n",
       "  </thead>\n",
       "  <tbody>\n",
       "    <tr>\n",
       "      <th>0</th>\n",
       "      <td>answer the medical question: i need to buy hea...</td>\n",
       "      <td>go to healthcare gov call my husband 407 222 9...</td>\n",
       "      <td>True</td>\n",
       "      <td>you can find information about health insuranc...</td>\n",
       "    </tr>\n",
       "    <tr>\n",
       "      <th>1</th>\n",
       "      <td>answer the medical question: i had an acute eb...</td>\n",
       "      <td>hi yes a chronic ebv infection also can be rul...</td>\n",
       "      <td>True</td>\n",
       "      <td>hi if you have a ebv antibody test then you sh...</td>\n",
       "    </tr>\n",
       "    <tr>\n",
       "      <th>2</th>\n",
       "      <td>answer the medical question: i am 19 and have ...</td>\n",
       "      <td>it seems more of anxiety exercises yoga medita...</td>\n",
       "      <td>True</td>\n",
       "      <td>hi if you have any symptoms then you need to s...</td>\n",
       "    </tr>\n",
       "    <tr>\n",
       "      <th>3</th>\n",
       "      <td>answer the medical question: hockey player has...</td>\n",
       "      <td>synovitis and cartilage damage seems to have o...</td>\n",
       "      <td>True</td>\n",
       "      <td>i am sorry to hear you are going through this ...</td>\n",
       "    </tr>\n",
       "    <tr>\n",
       "      <th>4</th>\n",
       "      <td>answer the medical question: is dust a cause o...</td>\n",
       "      <td>dust can be contaminated with staph bacteria o...</td>\n",
       "      <td>True</td>\n",
       "      <td>dust is not a cause of staph infection but it ...</td>\n",
       "    </tr>\n",
       "    <tr>\n",
       "      <th>...</th>\n",
       "      <td>...</td>\n",
       "      <td>...</td>\n",
       "      <td>...</td>\n",
       "      <td>...</td>\n",
       "    </tr>\n",
       "    <tr>\n",
       "      <th>295</th>\n",
       "      <td>answer the medical question: i have ulcerative...</td>\n",
       "      <td>hi read this link its very informative about y...</td>\n",
       "      <td>True</td>\n",
       "      <td>i am sorry to hear you are going through this ...</td>\n",
       "    </tr>\n",
       "    <tr>\n",
       "      <th>296</th>\n",
       "      <td>answer the medical question: i am having probl...</td>\n",
       "      <td>are the findings that you have quoted your imp...</td>\n",
       "      <td>True</td>\n",
       "      <td>hi i am sorry to hear you are going through th...</td>\n",
       "    </tr>\n",
       "    <tr>\n",
       "      <th>297</th>\n",
       "      <td>answer the medical question: how do i eat righ...</td>\n",
       "      <td>for the best fitness results it is important t...</td>\n",
       "      <td>True</td>\n",
       "      <td>eat right eat well and exercise regularly to g...</td>\n",
       "    </tr>\n",
       "    <tr>\n",
       "      <th>298</th>\n",
       "      <td>answer the medical question: is b12 effective ...</td>\n",
       "      <td>b12 does have some beneficial effect with shin...</td>\n",
       "      <td>True</td>\n",
       "      <td>b12 is a vitamin that is used to treat shingle...</td>\n",
       "    </tr>\n",
       "    <tr>\n",
       "      <th>299</th>\n",
       "      <td>answer the medical question: i have a low bloo...</td>\n",
       "      <td>i think you should see your doctor if you have...</td>\n",
       "      <td>True</td>\n",
       "      <td>if you have a sore throat you should call your...</td>\n",
       "    </tr>\n",
       "  </tbody>\n",
       "</table>\n",
       "<p>300 rows × 4 columns</p>\n",
       "</div>"
      ],
      "text/plain": [
       "                                              Question  \\\n",
       "0    answer the medical question: i need to buy hea...   \n",
       "1    answer the medical question: i had an acute eb...   \n",
       "2    answer the medical question: i am 19 and have ...   \n",
       "3    answer the medical question: hockey player has...   \n",
       "4    answer the medical question: is dust a cause o...   \n",
       "..                                                 ...   \n",
       "295  answer the medical question: i have ulcerative...   \n",
       "296  answer the medical question: i am having probl...   \n",
       "297  answer the medical question: how do i eat righ...   \n",
       "298  answer the medical question: is b12 effective ...   \n",
       "299  answer the medical question: i have a low bloo...   \n",
       "\n",
       "                                          Human Answer Original Model Answer  \\\n",
       "0    go to healthcare gov call my husband 407 222 9...                  True   \n",
       "1    hi yes a chronic ebv infection also can be rul...                  True   \n",
       "2    it seems more of anxiety exercises yoga medita...                  True   \n",
       "3    synovitis and cartilage damage seems to have o...                  True   \n",
       "4    dust can be contaminated with staph bacteria o...                  True   \n",
       "..                                                 ...                   ...   \n",
       "295  hi read this link its very informative about y...                  True   \n",
       "296  are the findings that you have quoted your imp...                  True   \n",
       "297  for the best fitness results it is important t...                  True   \n",
       "298  b12 does have some beneficial effect with shin...                  True   \n",
       "299  i think you should see your doctor if you have...                  True   \n",
       "\n",
       "                               Fine-tuned Model Answer  \n",
       "0    you can find information about health insuranc...  \n",
       "1    hi if you have a ebv antibody test then you sh...  \n",
       "2    hi if you have any symptoms then you need to s...  \n",
       "3    i am sorry to hear you are going through this ...  \n",
       "4    dust is not a cause of staph infection but it ...  \n",
       "..                                                 ...  \n",
       "295  i am sorry to hear you are going through this ...  \n",
       "296  hi i am sorry to hear you are going through th...  \n",
       "297  eat right eat well and exercise regularly to g...  \n",
       "298  b12 is a vitamin that is used to treat shingle...  \n",
       "299  if you have a sore throat you should call your...  \n",
       "\n",
       "[300 rows x 4 columns]"
      ]
     },
     "execution_count": 29,
     "metadata": {},
     "output_type": "execute_result"
    }
   ],
   "source": [
    "from transformers import T5ForConditionalGeneration, T5Tokenizer\n",
    "import pandas as pd\n",
    "import torch\n",
    "from tqdm import tqdm  # Import tqdm for progress tracking\n",
    "\n",
    "\n",
    "def generate_comparison_dataframe(original_model, fine_tuned_model, tokenizer):\n",
    "    \"\"\"\n",
    "    Generates a DataFrame comparing human answers with model outputs.\n",
    "\n",
    "    Args:\n",
    "        train: DataFrame containing short questions and answers.\n",
    "        original_model: The pre-trained model (original).\n",
    "        fine_tuned_model: The fine-tuned model.\n",
    "        tokenizer: The tokenizer used for both models.\n",
    "\n",
    "    Returns:\n",
    "        comparison_df: DataFrame containing questions, human answers, original and fine-tuned model outputs.\n",
    "    \"\"\"\n",
    "    # Ensure both models are in evaluation mode\n",
    "    original_model.eval()\n",
    "    fine_tuned_model.eval()\n",
    "\n",
    "    # Initialize lists to hold the results\n",
    "    questions = []\n",
    "    human_answers = []\n",
    "    original_answers = []\n",
    "    fine_tuned_answers = []\n",
    "\n",
    "    # Generate predictions for each question in the train DataFrame\n",
    "    with torch.no_grad():\n",
    "        for index, row in tqdm(val_test.iterrows(), total=val_test.shape[0], desc=\"Generating Outputs\"):\n",
    "            question = \"answer the medical question: \" + row['short_question']\n",
    "            human_answer = row['short_answer']\n",
    "\n",
    "            # Tokenize the input question\n",
    "            input_ids = tokenizer(question, return_tensors=\"pt\", padding=True, truncation=True).input_ids\n",
    "            \n",
    "           # Generate answers from the original model\n",
    "            original_outputs = original_model.generate(input_ids, max_length=128)  # Specify max_length here\n",
    "            original_output_text = tokenizer.decode(original_outputs[0], skip_special_tokens=True)\n",
    "            \n",
    "            # Generate answers from the fine-tuned model\n",
    "            fine_tuned_outputs = fine_tuned_model.generate(input_ids, max_length=128, no_repeat_ngram_size=3,top_k=50, top_p=0.95)\n",
    "            fine_tuned_output_text = tokenizer.decode(fine_tuned_outputs[0], skip_special_tokens=True)\n",
    "\n",
    "            # Append results to the lists\n",
    "            questions.append(question)\n",
    "            human_answers.append(human_answer)\n",
    "            original_answers.append(original_output_text)\n",
    "            fine_tuned_answers.append(fine_tuned_output_text)\n",
    "\n",
    "    # Create a DataFrame to compare the results\n",
    "    comparison_another_df = pd.DataFrame({\n",
    "        'Question': questions,\n",
    "        'Human Answer': human_answers,\n",
    "        'Original Model Answer': original_answers,\n",
    "        'Fine-tuned Model Answer': fine_tuned_answers\n",
    "    })\n",
    "\n",
    "    return comparison_another_df\n",
    "\n",
    "# Example usage\n",
    "comparison_another_df = generate_comparison_dataframe(original_model, fine_tuned_model, tokenizer)\n",
    "\n",
    "# Display the DataFrame\n",
    "comparison_another_df\n"
   ]
  },
  {
   "cell_type": "code",
   "execution_count": 30,
   "id": "34cdde52-1112-4e95-b67d-fa9f8ad39165",
   "metadata": {},
   "outputs": [],
   "source": [
    "comparison_another_df.to_excel('T5Base_final_result.xlsx',index=False)"
   ]
  },
  {
   "cell_type": "code",
   "execution_count": 31,
   "id": "0c8181df-9056-42e4-86bb-5ff02f5c4b30",
   "metadata": {},
   "outputs": [
    {
     "name": "stdout",
     "output_type": "stream",
     "text": [
      "<class 'pandas.core.frame.DataFrame'>\n",
      "RangeIndex: 300 entries, 0 to 299\n",
      "Data columns (total 4 columns):\n",
      " #   Column                   Non-Null Count  Dtype \n",
      "---  ------                   --------------  ----- \n",
      " 0   Question                 300 non-null    object\n",
      " 1   Human Answer             300 non-null    object\n",
      " 2   Original Model Answer    300 non-null    object\n",
      " 3   Fine-tuned Model Answer  300 non-null    object\n",
      "dtypes: object(4)\n",
      "memory usage: 9.5+ KB\n"
     ]
    }
   ],
   "source": [
    "comparison_another_df.info()"
   ]
  },
  {
   "cell_type": "code",
   "execution_count": 32,
   "id": "0262f3f6-23d3-4594-9bcd-56868c9cd2c1",
   "metadata": {},
   "outputs": [
    {
     "name": "stdout",
     "output_type": "stream",
     "text": [
      "Original ROUGE and BLEU Scores:\n",
      "  rouge1: 0.0010\n",
      "  rouge2: 0.0001\n",
      "  rougeL: 0.0010\n",
      "  rouge_sum: 0.0007\n",
      "  bleu: 0.0000\n",
      "\n",
      "Fine-tuned ROUGE and BLEU Scores:\n",
      "  rouge1: 0.2296\n",
      "  rouge2: 0.0464\n",
      "  rougeL: 0.1466\n",
      "  rouge_sum: 0.1408\n",
      "  bleu: 0.0175\n",
      "\n",
      "ROUGE and BLEU Improvement:\n",
      "  rouge1: 22696.74%\n",
      "  rouge2: 61615.55%\n",
      "  rougeL: 15309.59%\n",
      "  rouge_sum: 20679.11%\n",
      "  bleu: 80473.13%\n"
     ]
    }
   ],
   "source": [
    "from transformers import T5ForConditionalGeneration, T5Tokenizer\n",
    "from rouge_score import rouge_scorer\n",
    "from nltk.translate.bleu_score import sentence_bleu, SmoothingFunction\n",
    "import pandas as pd\n",
    "import torch\n",
    "\n",
    "# Function to calculate ROUGE scores\n",
    "def calculate_rouge_scores(human_answers, model_answers):\n",
    "    scorer = rouge_scorer.RougeScorer(['rouge1', 'rouge2', 'rougeL'], use_stemmer=True)\n",
    "    rouge_scores = {'rouge1': 0.0, 'rouge2': 0.0, 'rougeL': 0.0, 'rouge_sum': 0.0}\n",
    "    \n",
    "    for human, model in zip(human_answers, model_answers):\n",
    "        scores = scorer.score(human, model)\n",
    "        rouge_scores['rouge1'] += scores['rouge1'].fmeasure\n",
    "        rouge_scores['rouge2'] += scores['rouge2'].fmeasure\n",
    "        rouge_scores['rougeL'] += scores['rougeL'].fmeasure\n",
    "    \n",
    "    # Average the scores\n",
    "    total_samples = len(human_answers)\n",
    "    if total_samples > 0:\n",
    "        for metric in rouge_scores:\n",
    "            rouge_scores[metric] /= total_samples\n",
    "            \n",
    "        # Calculate ROUGE sum\n",
    "        rouge_scores['rouge_sum'] = (rouge_scores['rouge1'] + \n",
    "                                      rouge_scores['rouge2'] + \n",
    "                                      rouge_scores['rougeL']) / 3  # Average of the ROUGE scores\n",
    "\n",
    "    return rouge_scores\n",
    "\n",
    "# Function to calculate BLEU score\n",
    "def calculate_bleu_scores(human_answers, model_answers):\n",
    "    chencherry = SmoothingFunction()\n",
    "    bleu_score_total = 0.0\n",
    "    \n",
    "    for human, model in zip(human_answers, model_answers):\n",
    "        reference = [human.split()]  # Reference needs to be a list of lists of tokens\n",
    "        candidate = model.split()    # Candidate is a single list of tokens\n",
    "        bleu_score_total += sentence_bleu(reference, candidate, smoothing_function=chencherry.method1)\n",
    "    \n",
    "    # Calculate average BLEU score\n",
    "    total_samples = len(human_answers)\n",
    "    average_bleu = bleu_score_total / total_samples if total_samples > 0 else 0.0\n",
    "\n",
    "    return average_bleu\n",
    "\n",
    "# Function to calculate ROUGE and BLEU improvement\n",
    "def calculate_improvement(original_scores, fine_tuned_scores):\n",
    "    improvement = {}\n",
    "    \n",
    "    for metric in original_scores.keys():  # Include 'rouge1', 'rouge2', 'rougeL', 'rouge_sum', 'bleu'\n",
    "        original_score = original_scores[metric]\n",
    "        fine_tuned_score = fine_tuned_scores[metric]\n",
    "        \n",
    "        if original_score == 0:\n",
    "            if fine_tuned_score > 0:\n",
    "                improvement[metric] = float('inf')  # Infinite improvement if the original score is zero\n",
    "            else:\n",
    "                improvement[metric] = 0.0\n",
    "        else:\n",
    "            improvement[metric] = ((fine_tuned_score - original_score) / abs(original_score)) * 100\n",
    "\n",
    "    return improvement\n",
    "\n",
    "# Assuming comparison_df is already created and populated with the necessary data\n",
    "if 'comparison_another_df' in locals():\n",
    "    # Extract human answers and model answers from the DataFrame\n",
    "    human_answers = comparison_another_df['Human Answer'].tolist()\n",
    "    original_answers = comparison_another_df['Original Model Answer'].tolist()\n",
    "    fine_tuned_answers = comparison_another_df['Fine-tuned Model Answer'].tolist()\n",
    "\n",
    "    # Calculate ROUGE scores for both models\n",
    "    original_rouge_scores = calculate_rouge_scores(human_answers, original_answers)\n",
    "    fine_tuned_rouge_scores = calculate_rouge_scores(human_answers, fine_tuned_answers)\n",
    "    \n",
    "    # Calculate BLEU scores for both models\n",
    "    original_bleu_score = calculate_bleu_scores(human_answers, original_answers)\n",
    "    fine_tuned_bleu_score = calculate_bleu_scores(human_answers, fine_tuned_answers)\n",
    "\n",
    "    # Combine scores for improvement calculation\n",
    "    original_scores = {**original_rouge_scores, 'bleu': original_bleu_score}\n",
    "    fine_tuned_scores = {**fine_tuned_rouge_scores, 'bleu': fine_tuned_bleu_score}\n",
    "\n",
    "    # Calculate improvement\n",
    "    improvement = calculate_improvement(original_scores, fine_tuned_scores)\n",
    "\n",
    "    # Display results with formatting\n",
    "    print(\"Original ROUGE and BLEU Scores:\")\n",
    "    for key, value in original_scores.items():\n",
    "        print(f\"  {key}: {value:.4f}\")\n",
    "\n",
    "    print(\"\\nFine-tuned ROUGE and BLEU Scores:\")\n",
    "    for key, value in fine_tuned_scores.items():\n",
    "        print(f\"  {key}: {value:.4f}\")\n",
    "\n",
    "    print(\"\\nROUGE and BLEU Improvement:\")\n",
    "    for key, value in improvement.items():\n",
    "        print(f\"  {key}: {value:.2f}%\")\n",
    "else:\n",
    "    print(\"Error: comparison_another_df is not defined.\")\n"
   ]
  },
  {
   "cell_type": "markdown",
   "id": "73f772ed-29e5-4cb8-8a43-dd6ec3016c39",
   "metadata": {},
   "source": [
    "# For Demo"
   ]
  },
  {
   "cell_type": "markdown",
   "id": "6c2ec84f-b8d9-45f6-b601-c9df21abe1e6",
   "metadata": {},
   "source": [
    "### Run if need to load the model"
   ]
  },
  {
   "cell_type": "code",
   "execution_count": 1,
   "id": "6bd56ac6-8311-4b8b-ab53-90dd0ce7f732",
   "metadata": {},
   "outputs": [
    {
     "data": {
      "application/vnd.jupyter.widget-view+json": {
       "model_id": "32f0e720f7ca46aba902414050f2389b",
       "version_major": 2,
       "version_minor": 0
      },
      "text/plain": [
       "config.json:   0%|          | 0.00/1.21k [00:00<?, ?B/s]"
      ]
     },
     "metadata": {},
     "output_type": "display_data"
    },
    {
     "name": "stderr",
     "output_type": "stream",
     "text": [
      "C:\\anaconda3\\envs\\py39\\lib\\site-packages\\huggingface_hub\\file_download.py:139: UserWarning: `huggingface_hub` cache-system uses symlinks by default to efficiently store duplicated files but your machine does not support them in C:\\Users\\Valentino Ong\\.cache\\huggingface\\hub\\models--google-t5--t5-base. Caching files will still work but in a degraded version that might require more space on your disk. This warning can be disabled by setting the `HF_HUB_DISABLE_SYMLINKS_WARNING` environment variable. For more details, see https://huggingface.co/docs/huggingface_hub/how-to-cache#limitations.\n",
      "To support symlinks on Windows, you either need to activate Developer Mode or to run Python as an administrator. In order to activate developer mode, see this article: https://docs.microsoft.com/en-us/windows/apps/get-started/enable-your-device-for-development\n",
      "  warnings.warn(message)\n"
     ]
    },
    {
     "data": {
      "application/vnd.jupyter.widget-view+json": {
       "model_id": "d4cdb2a52a58487084ddc07b7e9ebdda",
       "version_major": 2,
       "version_minor": 0
      },
      "text/plain": [
       "model.safetensors:   0%|          | 0.00/892M [00:00<?, ?B/s]"
      ]
     },
     "metadata": {},
     "output_type": "display_data"
    },
    {
     "data": {
      "application/vnd.jupyter.widget-view+json": {
       "model_id": "454cee623a4f454488f25e886b01752c",
       "version_major": 2,
       "version_minor": 0
      },
      "text/plain": [
       "generation_config.json:   0%|          | 0.00/147 [00:00<?, ?B/s]"
      ]
     },
     "metadata": {},
     "output_type": "display_data"
    },
    {
     "data": {
      "application/vnd.jupyter.widget-view+json": {
       "model_id": "f1a3c4946e6f4f60ae996ff36374379a",
       "version_major": 2,
       "version_minor": 0
      },
      "text/plain": [
       "spiece.model:   0%|          | 0.00/792k [00:00<?, ?B/s]"
      ]
     },
     "metadata": {},
     "output_type": "display_data"
    },
    {
     "data": {
      "application/vnd.jupyter.widget-view+json": {
       "model_id": "13b70e699b884057b6c5d7a4edcd8b93",
       "version_major": 2,
       "version_minor": 0
      },
      "text/plain": [
       "tokenizer.json:   0%|          | 0.00/1.39M [00:00<?, ?B/s]"
      ]
     },
     "metadata": {},
     "output_type": "display_data"
    },
    {
     "name": "stderr",
     "output_type": "stream",
     "text": [
      "You are using the default legacy behaviour of the <class 'transformers.models.t5.tokenization_t5.T5Tokenizer'>. This is expected, and simply means that the `legacy` (previous) behavior will be used so nothing changes for you. If you want to use the new behaviour, set `legacy=False`. This should only be set if you understand what it means, and thoroughly read the reason why this was added as explained in https://github.com/huggingface/transformers/pull/24565\n"
     ]
    }
   ],
   "source": [
    "from transformers import T5ForConditionalGeneration, T5Tokenizer\n",
    "\n",
    "# Load models\n",
    "original_model = T5ForConditionalGeneration.from_pretrained(\"google-t5/t5-base\")\n",
    "fine_tuned_model = T5ForConditionalGeneration.from_pretrained(\"./best_model_t5_base\")\n",
    "\n",
    "# Load the tokenizer (same for both models)\n",
    "tokenizer = T5Tokenizer.from_pretrained(\"google-t5/t5-base\")"
   ]
  },
  {
   "cell_type": "code",
   "execution_count": 35,
   "id": "3292da5a-8b43-4fa8-b3ea-b5cd18aeac78",
   "metadata": {},
   "outputs": [
    {
     "name": "stderr",
     "output_type": "stream",
     "text": [
      "Asking to truncate to max_length but no maximum length is provided and the model has no predefined maximum length. Default to no truncation.\n",
      "/common/home/projectgrps/CS425/CS425G12/jupyterlab-venv-pytorch-240/lib/python3.11/site-packages/transformers/generation/configuration_utils.py:595: UserWarning: `do_sample` is set to `False`. However, `top_p` is set to `0.95` -- this flag is only used in sample-based generation modes. You should set `do_sample=True` or unset `top_p`.\n",
      "  warnings.warn(\n"
     ]
    },
    {
     "name": "stdout",
     "output_type": "stream",
     "text": [
      "----------------------------------------------------------------------\n",
      "Questions:\n",
      "answer the medical question: what are the symptoms of gallstones\n",
      "----------------------------------------------------------------------\n",
      "Original Model Output:\n",
      "True\n",
      "----------------------------------------------------------------------\n",
      "Fine-tuned Model Output:\n",
      "symptoms of gallstones include a rash a fever and a lack of appetite gallstone symptoms include swollen gallbladder and enlarged gallblades gallstone is a condition that causes the body to produce more cholesterol than normal gallstone can cause a person to have enlarged or enlarged bile ducts gallstone may be a sign of a disease called biliary edema gallstone bilitus gallstone gallstone causes a rapid increase in blood pressure and billitus gallbladium gallstone disease gallstone fever is\n",
      "----------------------------------------------------------------------\n"
     ]
    }
   ],
   "source": [
    "from transformers import T5ForConditionalGeneration, T5Tokenizer\n",
    "import pandas as pd\n",
    "import torch\n",
    "from tqdm import tqdm  # Import tqdm for progress tracking\n",
    "\n",
    "\n",
    "def generate_comparison(question):\n",
    "    \"\"\"\n",
    "    Given an input from user, generate the output from both original and fine tuned model\n",
    "\n",
    "    Args:\n",
    "        original_model: The pre-trained model (original).\n",
    "        fine_tuned_model: The fine-tuned model.\n",
    "        tokenizer: The tokenizer used for both models.\n",
    "\n",
    "    Returns:\n",
    "        comparison_df: DataFrame containing questions, human answers, original and fine-tuned model outputs.\n",
    "    \"\"\"\n",
    "    # Ensure both models are in evaluation mode\n",
    "    original_model.eval()\n",
    "    fine_tuned_model.eval()\n",
    "\n",
    "    # Generate predictions for each question in the train DataFrame\n",
    "    with torch.no_grad():\n",
    "\n",
    "        # Tokenize the input question\n",
    "        input_ids = tokenizer(question, return_tensors=\"pt\", padding=True, truncation=True).input_ids\n",
    "        \n",
    "       # Generate answers from the original model\n",
    "        original_outputs = original_model.generate(input_ids,max_length=128)  # Specify max_length here\n",
    "        original_output_text = tokenizer.decode(original_outputs[0], skip_special_tokens=True)\n",
    "        \n",
    "        # Generate answers from the fine-tuned model\n",
    "        fine_tuned_outputs = fine_tuned_model.generate(input_ids, max_length=128, no_repeat_ngram_size=3,top_k=50, top_p=0.95)\n",
    "        fine_tuned_output_text = tokenizer.decode(fine_tuned_outputs[0], skip_special_tokens=True)\n",
    "\n",
    "\n",
    "    # Display results with formatting\n",
    "    print(\"----------------------------------------------------------------------\")\n",
    "    print(\"Questions:\")\n",
    "    print(question)\n",
    "    print(\"----------------------------------------------------------------------\")\n",
    "    print(\"Original Model Output:\")\n",
    "    print(original_output_text)\n",
    "    print(\"----------------------------------------------------------------------\")\n",
    "    print(\"Fine-tuned Model Output:\")\n",
    "    print(fine_tuned_output_text)\n",
    "    print(\"----------------------------------------------------------------------\")\n",
    "        \n",
    "\n",
    "formatted = \"answer the medical question: \"\n",
    "# question = \"is there a generic form of plavix if not what is clopidogrel\"\n",
    "# question = \"i use xonepex in my nebulizer for my emphysema could i use a watered down solution of vicks vapor steam in my nebulizer what would be the side effects in doing this it would be a mild solution and not a replacement for my xonepex i also use a cpap to sleep with at night could i put a drop of vicks vapor steam in my water tank to breath in instead of just plain water\"\n",
    "# question = \"what is migraine without aura\"\n",
    "# question = \"can you be allergic to mold in your food\"\n",
    "# question = \"what is a seizure and what is epilepsy\"\n",
    "question = \"what are the symptoms of gallstones\"\n",
    "generate_comparison(formatted + question)"
   ]
  },
  {
   "cell_type": "markdown",
   "id": "bcb596b1-687e-4000-b471-cb1c66892f41",
   "metadata": {},
   "source": [
    "# Deploy to Gradio"
   ]
  },
  {
   "cell_type": "code",
   "execution_count": 72,
   "id": "7d181491-6926-413f-bf9a-f18b17b98842",
   "metadata": {},
   "outputs": [
    {
     "name": "stdout",
     "output_type": "stream",
     "text": [
      "Collecting gradio\n",
      "  Downloading gradio-5.4.0-py3-none-any.whl.metadata (16 kB)\n",
      "Collecting aiofiles<24.0,>=22.0 (from gradio)\n",
      "  Downloading aiofiles-23.2.1-py3-none-any.whl.metadata (9.7 kB)\n",
      "Requirement already satisfied: anyio<5.0,>=3.0 in /common/home/projectgrps/CS425/CS425G12/jupyterlab-venv-tf-217/lib/python3.11/site-packages (from gradio) (4.6.2.post1)\n",
      "Collecting fastapi<1.0,>=0.115.2 (from gradio)\n",
      "  Downloading fastapi-0.115.4-py3-none-any.whl.metadata (27 kB)\n",
      "Collecting ffmpy (from gradio)\n",
      "  Downloading ffmpy-0.4.0-py3-none-any.whl.metadata (2.9 kB)\n",
      "Collecting gradio-client==1.4.2 (from gradio)\n",
      "  Downloading gradio_client-1.4.2-py3-none-any.whl.metadata (7.1 kB)\n",
      "Requirement already satisfied: httpx>=0.24.1 in /common/home/projectgrps/CS425/CS425G12/jupyterlab-venv-tf-217/lib/python3.11/site-packages (from gradio) (0.27.2)\n",
      "Requirement already satisfied: huggingface-hub>=0.25.1 in /common/home/projectgrps/CS425/CS425G12/jupyterlab-venv-tf-217/lib/python3.11/site-packages (from gradio) (0.26.2)\n",
      "Requirement already satisfied: jinja2<4.0 in /common/home/projectgrps/CS425/CS425G12/jupyterlab-venv-tf-217/lib/python3.11/site-packages (from gradio) (3.1.4)\n",
      "Collecting markupsafe~=2.0 (from gradio)\n",
      "  Downloading MarkupSafe-2.1.5-cp311-cp311-manylinux_2_17_x86_64.manylinux2014_x86_64.whl.metadata (3.0 kB)\n",
      "Requirement already satisfied: numpy<3.0,>=1.0 in /common/home/projectgrps/CS425/CS425G12/jupyterlab-venv-tf-217/lib/python3.11/site-packages (from gradio) (2.1.2)\n",
      "Collecting orjson~=3.0 (from gradio)\n",
      "  Downloading orjson-3.10.10-cp311-cp311-manylinux_2_17_x86_64.manylinux2014_x86_64.whl.metadata (50 kB)\n",
      "Requirement already satisfied: packaging in /common/home/projectgrps/CS425/CS425G12/jupyterlab-venv-tf-217/lib/python3.11/site-packages (from gradio) (24.1)\n",
      "Requirement already satisfied: pandas<3.0,>=1.0 in /common/home/projectgrps/CS425/CS425G12/jupyterlab-venv-tf-217/lib/python3.11/site-packages (from gradio) (2.2.3)\n",
      "Requirement already satisfied: pillow<12.0,>=8.0 in /common/home/projectgrps/CS425/CS425G12/jupyterlab-venv-tf-217/lib/python3.11/site-packages (from gradio) (11.0.0)\n",
      "Collecting pydantic>=2.0 (from gradio)\n",
      "  Downloading pydantic-2.9.2-py3-none-any.whl.metadata (149 kB)\n",
      "Collecting pydub (from gradio)\n",
      "  Downloading pydub-0.25.1-py2.py3-none-any.whl.metadata (1.4 kB)\n",
      "Collecting python-multipart==0.0.12 (from gradio)\n",
      "  Downloading python_multipart-0.0.12-py3-none-any.whl.metadata (1.9 kB)\n",
      "Requirement already satisfied: pyyaml<7.0,>=5.0 in /common/home/projectgrps/CS425/CS425G12/jupyterlab-venv-tf-217/lib/python3.11/site-packages (from gradio) (6.0.2)\n",
      "Collecting ruff>=0.2.2 (from gradio)\n",
      "  Downloading ruff-0.7.1-py3-none-manylinux_2_17_x86_64.manylinux2014_x86_64.whl.metadata (25 kB)\n",
      "Collecting safehttpx<1.0,>=0.1.1 (from gradio)\n",
      "  Downloading safehttpx-0.1.1-py3-none-any.whl.metadata (4.1 kB)\n",
      "Collecting semantic-version~=2.0 (from gradio)\n",
      "  Downloading semantic_version-2.10.0-py2.py3-none-any.whl.metadata (9.7 kB)\n",
      "Collecting starlette<1.0,>=0.40.0 (from gradio)\n",
      "  Downloading starlette-0.41.2-py3-none-any.whl.metadata (6.0 kB)\n",
      "Collecting tomlkit==0.12.0 (from gradio)\n",
      "  Downloading tomlkit-0.12.0-py3-none-any.whl.metadata (2.7 kB)\n",
      "Collecting typer<1.0,>=0.12 (from gradio)\n",
      "  Downloading typer-0.12.5-py3-none-any.whl.metadata (15 kB)\n",
      "Requirement already satisfied: typing-extensions~=4.0 in /common/home/projectgrps/CS425/CS425G12/jupyterlab-venv-tf-217/lib/python3.11/site-packages (from gradio) (4.12.2)\n",
      "Collecting uvicorn>=0.14.0 (from gradio)\n",
      "  Downloading uvicorn-0.32.0-py3-none-any.whl.metadata (6.6 kB)\n",
      "Requirement already satisfied: fsspec in /common/home/projectgrps/CS425/CS425G12/jupyterlab-venv-tf-217/lib/python3.11/site-packages (from gradio-client==1.4.2->gradio) (2024.9.0)\n",
      "Collecting websockets<13.0,>=10.0 (from gradio-client==1.4.2->gradio)\n",
      "  Downloading websockets-12.0-cp311-cp311-manylinux_2_5_x86_64.manylinux1_x86_64.manylinux_2_17_x86_64.manylinux2014_x86_64.whl.metadata (6.6 kB)\n",
      "Requirement already satisfied: idna>=2.8 in /common/home/projectgrps/CS425/CS425G12/jupyterlab-venv-tf-217/lib/python3.11/site-packages (from anyio<5.0,>=3.0->gradio) (3.10)\n",
      "Requirement already satisfied: sniffio>=1.1 in /common/home/projectgrps/CS425/CS425G12/jupyterlab-venv-tf-217/lib/python3.11/site-packages (from anyio<5.0,>=3.0->gradio) (1.3.1)\n",
      "Requirement already satisfied: certifi in /common/home/projectgrps/CS425/CS425G12/jupyterlab-venv-tf-217/lib/python3.11/site-packages (from httpx>=0.24.1->gradio) (2024.8.30)\n",
      "Requirement already satisfied: httpcore==1.* in /common/home/projectgrps/CS425/CS425G12/jupyterlab-venv-tf-217/lib/python3.11/site-packages (from httpx>=0.24.1->gradio) (1.0.6)\n",
      "Requirement already satisfied: h11<0.15,>=0.13 in /common/home/projectgrps/CS425/CS425G12/jupyterlab-venv-tf-217/lib/python3.11/site-packages (from httpcore==1.*->httpx>=0.24.1->gradio) (0.14.0)\n",
      "Requirement already satisfied: filelock in /common/home/projectgrps/CS425/CS425G12/jupyterlab-venv-tf-217/lib/python3.11/site-packages (from huggingface-hub>=0.25.1->gradio) (3.16.1)\n",
      "Requirement already satisfied: requests in /common/home/projectgrps/CS425/CS425G12/jupyterlab-venv-tf-217/lib/python3.11/site-packages (from huggingface-hub>=0.25.1->gradio) (2.32.3)\n",
      "Requirement already satisfied: tqdm>=4.42.1 in /common/home/projectgrps/CS425/CS425G12/jupyterlab-venv-tf-217/lib/python3.11/site-packages (from huggingface-hub>=0.25.1->gradio) (4.66.6)\n",
      "Requirement already satisfied: python-dateutil>=2.8.2 in /common/home/projectgrps/CS425/CS425G12/jupyterlab-venv-tf-217/lib/python3.11/site-packages (from pandas<3.0,>=1.0->gradio) (2.9.0.post0)\n",
      "Requirement already satisfied: pytz>=2020.1 in /common/home/projectgrps/CS425/CS425G12/jupyterlab-venv-tf-217/lib/python3.11/site-packages (from pandas<3.0,>=1.0->gradio) (2024.2)\n",
      "Requirement already satisfied: tzdata>=2022.7 in /common/home/projectgrps/CS425/CS425G12/jupyterlab-venv-tf-217/lib/python3.11/site-packages (from pandas<3.0,>=1.0->gradio) (2024.2)\n",
      "Collecting annotated-types>=0.6.0 (from pydantic>=2.0->gradio)\n",
      "  Downloading annotated_types-0.7.0-py3-none-any.whl.metadata (15 kB)\n",
      "Collecting pydantic-core==2.23.4 (from pydantic>=2.0->gradio)\n",
      "  Downloading pydantic_core-2.23.4-cp311-cp311-manylinux_2_17_x86_64.manylinux2014_x86_64.whl.metadata (6.6 kB)\n",
      "Requirement already satisfied: click>=8.0.0 in /common/home/projectgrps/CS425/CS425G12/jupyterlab-venv-tf-217/lib/python3.11/site-packages (from typer<1.0,>=0.12->gradio) (8.1.7)\n",
      "Collecting shellingham>=1.3.0 (from typer<1.0,>=0.12->gradio)\n",
      "  Downloading shellingham-1.5.4-py2.py3-none-any.whl.metadata (3.5 kB)\n",
      "Requirement already satisfied: rich>=10.11.0 in /common/home/projectgrps/CS425/CS425G12/jupyterlab-venv-tf-217/lib/python3.11/site-packages (from typer<1.0,>=0.12->gradio) (13.9.3)\n",
      "Requirement already satisfied: six>=1.5 in /common/home/projectgrps/CS425/CS425G12/jupyterlab-venv-tf-217/lib/python3.11/site-packages (from python-dateutil>=2.8.2->pandas<3.0,>=1.0->gradio) (1.16.0)\n",
      "Requirement already satisfied: markdown-it-py>=2.2.0 in /common/home/projectgrps/CS425/CS425G12/jupyterlab-venv-tf-217/lib/python3.11/site-packages (from rich>=10.11.0->typer<1.0,>=0.12->gradio) (3.0.0)\n",
      "Requirement already satisfied: pygments<3.0.0,>=2.13.0 in /common/home/projectgrps/CS425/CS425G12/jupyterlab-venv-tf-217/lib/python3.11/site-packages (from rich>=10.11.0->typer<1.0,>=0.12->gradio) (2.18.0)\n",
      "Requirement already satisfied: charset-normalizer<4,>=2 in /common/home/projectgrps/CS425/CS425G12/jupyterlab-venv-tf-217/lib/python3.11/site-packages (from requests->huggingface-hub>=0.25.1->gradio) (3.4.0)\n",
      "Requirement already satisfied: urllib3<3,>=1.21.1 in /common/home/projectgrps/CS425/CS425G12/jupyterlab-venv-tf-217/lib/python3.11/site-packages (from requests->huggingface-hub>=0.25.1->gradio) (2.2.3)\n",
      "Requirement already satisfied: mdurl~=0.1 in /common/home/projectgrps/CS425/CS425G12/jupyterlab-venv-tf-217/lib/python3.11/site-packages (from markdown-it-py>=2.2.0->rich>=10.11.0->typer<1.0,>=0.12->gradio) (0.1.2)\n",
      "Downloading gradio-5.4.0-py3-none-any.whl (56.7 MB)\n",
      "\u001b[2K   \u001b[90m━━━━━━━━━━━━━━━━━━━━━━━━━━━━━━━━━━━━━━━━\u001b[0m \u001b[32m56.7/56.7 MB\u001b[0m \u001b[31m187.9 MB/s\u001b[0m eta \u001b[36m0:00:00\u001b[0ma \u001b[36m0:00:01\u001b[0m\n",
      "\u001b[?25hDownloading gradio_client-1.4.2-py3-none-any.whl (319 kB)\n",
      "Downloading python_multipart-0.0.12-py3-none-any.whl (23 kB)\n",
      "Downloading tomlkit-0.12.0-py3-none-any.whl (37 kB)\n",
      "Downloading aiofiles-23.2.1-py3-none-any.whl (15 kB)\n",
      "Downloading fastapi-0.115.4-py3-none-any.whl (94 kB)\n",
      "Downloading MarkupSafe-2.1.5-cp311-cp311-manylinux_2_17_x86_64.manylinux2014_x86_64.whl (28 kB)\n",
      "Downloading orjson-3.10.10-cp311-cp311-manylinux_2_17_x86_64.manylinux2014_x86_64.whl (144 kB)\n",
      "Downloading pydantic-2.9.2-py3-none-any.whl (434 kB)\n",
      "Downloading pydantic_core-2.23.4-cp311-cp311-manylinux_2_17_x86_64.manylinux2014_x86_64.whl (2.1 MB)\n",
      "\u001b[2K   \u001b[90m━━━━━━━━━━━━━━━━━━━━━━━━━━━━━━━━━━━━━━━━\u001b[0m \u001b[32m2.1/2.1 MB\u001b[0m \u001b[31m87.4 MB/s\u001b[0m eta \u001b[36m0:00:00\u001b[0m\n",
      "\u001b[?25hDownloading ruff-0.7.1-py3-none-manylinux_2_17_x86_64.manylinux2014_x86_64.whl (11.0 MB)\n",
      "\u001b[2K   \u001b[90m━━━━━━━━━━━━━━━━━━━━━━━━━━━━━━━━━━━━━━━━\u001b[0m \u001b[32m11.0/11.0 MB\u001b[0m \u001b[31m151.5 MB/s\u001b[0m eta \u001b[36m0:00:00\u001b[0m\n",
      "\u001b[?25hDownloading safehttpx-0.1.1-py3-none-any.whl (8.4 kB)\n",
      "Downloading semantic_version-2.10.0-py2.py3-none-any.whl (15 kB)\n",
      "Downloading starlette-0.41.2-py3-none-any.whl (73 kB)\n",
      "Downloading typer-0.12.5-py3-none-any.whl (47 kB)\n",
      "Downloading uvicorn-0.32.0-py3-none-any.whl (63 kB)\n",
      "Downloading ffmpy-0.4.0-py3-none-any.whl (5.8 kB)\n",
      "Downloading pydub-0.25.1-py2.py3-none-any.whl (32 kB)\n",
      "Downloading annotated_types-0.7.0-py3-none-any.whl (13 kB)\n",
      "Downloading shellingham-1.5.4-py2.py3-none-any.whl (9.8 kB)\n",
      "Downloading websockets-12.0-cp311-cp311-manylinux_2_5_x86_64.manylinux1_x86_64.manylinux_2_17_x86_64.manylinux2014_x86_64.whl (130 kB)\n",
      "Installing collected packages: pydub, websockets, uvicorn, tomlkit, shellingham, semantic-version, ruff, python-multipart, pydantic-core, orjson, markupsafe, ffmpy, annotated-types, aiofiles, starlette, pydantic, typer, safehttpx, gradio-client, fastapi, gradio\n",
      "  Attempting uninstall: markupsafe\n",
      "    Found existing installation: MarkupSafe 3.0.2\n",
      "    Uninstalling MarkupSafe-3.0.2:\n",
      "      Successfully uninstalled MarkupSafe-3.0.2\n",
      "Successfully installed aiofiles-23.2.1 annotated-types-0.7.0 fastapi-0.115.4 ffmpy-0.4.0 gradio-5.4.0 gradio-client-1.4.2 markupsafe-2.1.5 orjson-3.10.10 pydantic-2.9.2 pydantic-core-2.23.4 pydub-0.25.1 python-multipart-0.0.12 ruff-0.7.1 safehttpx-0.1.1 semantic-version-2.10.0 shellingham-1.5.4 starlette-0.41.2 tomlkit-0.12.0 typer-0.12.5 uvicorn-0.32.0 websockets-12.0\n"
     ]
    }
   ],
   "source": [
    "# !pip3 install gradio"
   ]
  },
  {
   "cell_type": "code",
   "execution_count": 74,
   "id": "0bd64e6e-4566-4c2d-9951-5a3f22ca307f",
   "metadata": {},
   "outputs": [
    {
     "name": "stderr",
     "output_type": "stream",
     "text": [
      "which: no node in (/common/home/projectgrps/CS425/CS425G12/jupyterlab-venv-tf-217/bin:/opt/apps/software/CUDA/12.3.2/nvvm/bin:/opt/apps/software/CUDA/12.3.2/bin:/opt/apps/software/Python/3.11.7-GCCcore-11.2.0/bin:/opt/apps/software/OpenSSL/1.1/bin:/opt/apps/software/XZ/5.2.5-GCCcore-11.2.0/bin:/opt/apps/software/SQLite/3.36-GCCcore-11.2.0/bin:/opt/apps/software/Tcl/8.6.11-GCCcore-11.2.0/bin:/opt/apps/software/ncurses/6.2-GCCcore-11.2.0/bin:/opt/apps/software/bzip2/1.0.8-GCCcore-11.2.0/bin:/opt/apps/software/binutils/2.37-GCCcore-11.2.0/bin:/opt/apps/software/GCCcore/11.2.0/bin:/common/home/projectgrps/CS425/CS425G12/.local/bin:/common/home/projectgrps/CS425/CS425G12/bin:/usr/local/bin:/usr/bin:/usr/local/sbin:/usr/sbin)\n"
     ]
    },
    {
     "name": "stdout",
     "output_type": "stream",
     "text": [
      "* Running on local URL:  http://127.0.0.1:7861\n",
      "\n",
      "Could not create share link. Please check your internet connection or our status page: https://status.gradio.app.\n"
     ]
    },
    {
     "name": "stderr",
     "output_type": "stream",
     "text": [
      "2024/10/31 22:59:32 [W] [service.go:132] login to server failed: session shutdown\n"
     ]
    },
    {
     "data": {
      "text/html": [
       "<div><iframe src=\"http://127.0.0.1:7861/\" width=\"100%\" height=\"500\" allow=\"autoplay; camera; microphone; clipboard-read; clipboard-write;\" frameborder=\"0\" allowfullscreen></iframe></div>"
      ],
      "text/plain": [
       "<IPython.core.display.HTML object>"
      ]
     },
     "metadata": {},
     "output_type": "display_data"
    },
    {
     "data": {
      "text/plain": []
     },
     "execution_count": 74,
     "metadata": {},
     "output_type": "execute_result"
    }
   ],
   "source": [
    "import gradio as gr\n",
    "from transformers import T5ForConditionalGeneration, T5Tokenizer\n",
    "import torch\n",
    "\n",
    "# Load your fine-tuned T5 model and tokenizer\n",
    "model_name = \"./best_model\"\n",
    "model = T5ForConditionalGeneration.from_pretrained(model_name)\n",
    "tokenizer = T5Tokenizer.from_pretrained(model_name)\n",
    "\n",
    "# Define a function to generate an answer\n",
    "def generate_answer(question):\n",
    "    # Tokenize the input question\n",
    "    inputs = tokenizer.encode(\"answer the medical question: \" + question, return_tensors=\"pt\", truncation=True)\n",
    "    \n",
    "    # Generate the answer with the model\n",
    "    outputs = model.generate(inputs, max_length=128, no_repeat_ngram_size=3, top_k=50, top_p=0.95)\n",
    "    \n",
    "    # Decode the generated answer\n",
    "    answer = tokenizer.decode(outputs[0], skip_special_tokens=True)\n",
    "    \n",
    "    return answer\n",
    "\n",
    "# Set up the Gradio interface with proper input and output elements\n",
    "iface = gr.Interface(\n",
    "    fn=generate_answer,\n",
    "    inputs=gr.inputs.Textbox(lines=2, placeholder=\"Enter your medical question here...\", label=\"Question\"),\n",
    "    outputs=gr.outputs.Textbox(label=\"Answer\"),\n",
    "    title=\"Medical Question Answering Bot\",\n",
    "    description=\"Ask a medical question and get an answer generated by a fine-tuned model.\"\n",
    ")\n",
    "\n",
    "# Launch the Gradio app with share=True to get a public link\n",
    "iface.launch(share=True)"
   ]
  },
  {
   "cell_type": "code",
   "execution_count": null,
   "id": "3a7f1814-0b4c-4084-bcaa-e3098e85082e",
   "metadata": {},
   "outputs": [],
   "source": []
  }
 ],
 "metadata": {
  "kernelspec": {
   "display_name": "Python 3 (ipykernel)",
   "language": "python",
   "name": "python3"
  },
  "language_info": {
   "codemirror_mode": {
    "name": "ipython",
    "version": 3
   },
   "file_extension": ".py",
   "mimetype": "text/x-python",
   "name": "python",
   "nbconvert_exporter": "python",
   "pygments_lexer": "ipython3",
   "version": "3.9.18"
  }
 },
 "nbformat": 4,
 "nbformat_minor": 5
}
