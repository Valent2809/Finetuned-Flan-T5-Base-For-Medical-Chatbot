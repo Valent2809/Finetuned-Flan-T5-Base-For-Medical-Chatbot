{
 "cells": [
  {
   "cell_type": "code",
   "execution_count": null,
   "id": "de5b8c0c-0836-4fe4-8d0a-8db2edea4819",
   "metadata": {},
   "outputs": [],
   "source": [
    "!pip3 install -q -U bitsandbytes transformers peft accelerate datasets scipy einops evaluate trl rouge_score"
   ]
  },
  {
   "cell_type": "code",
   "execution_count": null,
   "id": "5145fff9-0775-4529-84dc-32af2628da6c",
   "metadata": {},
   "outputs": [],
   "source": [
    "!pip3 install pandas matplotlib "
   ]
  },
  {
   "cell_type": "code",
   "execution_count": null,
   "id": "1f7c6a6f-14d9-440a-b55d-6035a84f2451",
   "metadata": {},
   "outputs": [],
   "source": [
    "!pip3 install tf-keras==2.16.0"
   ]
  },
  {
   "cell_type": "code",
   "execution_count": null,
   "id": "78ea7c33-0faf-4359-81fe-39218345c498",
   "metadata": {},
   "outputs": [],
   "source": [
    "!pip3 install --pre torch torchvision torchaudio --index-url https://download.pytorch.org/whl/nightly/cu121"
   ]
  },
  {
   "cell_type": "code",
   "execution_count": 3,
   "id": "64c1e1ec-4e91-4a15-b56d-758966e7fab1",
   "metadata": {},
   "outputs": [
    {
     "name": "stdout",
     "output_type": "stream",
     "text": [
      "Collecting pynvml\n",
      "  Using cached pynvml-11.5.3-py3-none-any.whl.metadata (8.8 kB)\n",
      "Using cached pynvml-11.5.3-py3-none-any.whl (53 kB)\n",
      "Installing collected packages: pynvml\n",
      "Successfully installed pynvml-11.5.3\n"
     ]
    }
   ],
   "source": [
    "!pip3 install pynvml gradio"
   ]
  },
  {
   "cell_type": "code",
   "execution_count": 13,
   "id": "93c496ea-4784-4861-99e3-8b2b04d3196a",
   "metadata": {},
   "outputs": [
    {
     "name": "stdout",
     "output_type": "stream",
     "text": [
      "Collecting SentencePiece\n",
      "  Using cached sentencepiece-0.2.0-cp311-cp311-manylinux_2_17_x86_64.manylinux2014_x86_64.whl.metadata (7.7 kB)\n",
      "Using cached sentencepiece-0.2.0-cp311-cp311-manylinux_2_17_x86_64.manylinux2014_x86_64.whl (1.3 MB)\n",
      "Installing collected packages: SentencePiece\n",
      "Successfully installed SentencePiece-0.2.0\n"
     ]
    }
   ],
   "source": [
    "!pip3 install SentencePiece"
   ]
  },
  {
   "cell_type": "code",
   "execution_count": null,
   "id": "787e529a-b646-46aa-83cf-8b11f532543d",
   "metadata": {},
   "outputs": [],
   "source": [
    "import nltk\n",
    "nltk.data.path.append('../nltk_data')\n",
    "nltk.download('punkt_tab')\n",
    "nltk.download(\"punkt\")"
   ]
  },
  {
   "cell_type": "code",
   "execution_count": 1,
   "id": "4cffecc6-e36f-462d-af55-caf3d14f2138",
   "metadata": {},
   "outputs": [
    {
     "name": "stderr",
     "output_type": "stream",
     "text": [
      "/common/home/projectgrps/CS425/CS425G12/jupyterlab-venv-pytorch-240/lib/python3.11/site-packages/tqdm/auto.py:21: TqdmWarning: IProgress not found. Please update jupyter and ipywidgets. See https://ipywidgets.readthedocs.io/en/stable/user_install.html\n",
      "  from .autonotebook import tqdm as notebook_tqdm\n",
      "2024-11-13 15:48:25.084187: E external/local_xla/xla/stream_executor/cuda/cuda_fft.cc:479] Unable to register cuFFT factory: Attempting to register factory for plugin cuFFT when one has already been registered\n",
      "2024-11-13 15:48:25.109381: E external/local_xla/xla/stream_executor/cuda/cuda_dnn.cc:10575] Unable to register cuDNN factory: Attempting to register factory for plugin cuDNN when one has already been registered\n",
      "2024-11-13 15:48:25.109450: E external/local_xla/xla/stream_executor/cuda/cuda_blas.cc:1442] Unable to register cuBLAS factory: Attempting to register factory for plugin cuBLAS when one has already been registered\n",
      "2024-11-13 15:48:25.127312: I tensorflow/core/platform/cpu_feature_guard.cc:210] This TensorFlow binary is optimized to use available CPU instructions in performance-critical operations.\n",
      "To enable the following instructions: AVX2 FMA, in other operations, rebuild TensorFlow with the appropriate compiler flags.\n",
      "2024-11-13 15:48:26.075787: W tensorflow/compiler/tf2tensorrt/utils/py_utils.cc:38] TF-TRT Warning: Could not find TensorRT\n"
     ]
    }
   ],
   "source": [
    "# Import the necessary libraries\n",
    "import nltk\n",
    "from datasets import load_dataset\n",
    "import evaluate\n",
    "import numpy as np\n",
    "from transformers import T5Tokenizer, DataCollatorForSeq2Seq\n",
    "from transformers import T5ForConditionalGeneration, Seq2SeqTrainingArguments, Seq2SeqTrainer"
   ]
  },
  {
   "cell_type": "code",
   "execution_count": 2,
   "id": "5ab126a5-bc54-44bb-b3ed-8e5cddc30cd2",
   "metadata": {},
   "outputs": [],
   "source": [
    "from pynvml import *\n",
    "\n",
    "def print_gpu_utilization():\n",
    "    nvmlInit()\n",
    "    handle = nvmlDeviceGetHandleByIndex(0)\n",
    "    info = nvmlDeviceGetMemoryInfo(handle)\n",
    "    print(f\"GPU memory occupied: {info.used//1024**2} MB.\")"
   ]
  },
  {
   "cell_type": "code",
   "execution_count": 3,
   "id": "76ccff3d-8493-4429-9282-24f832946670",
   "metadata": {},
   "outputs": [
    {
     "name": "stdout",
     "output_type": "stream",
     "text": [
      "GPU memory occupied: 324 MB.\n"
     ]
    }
   ],
   "source": [
    "print_gpu_utilization()"
   ]
  },
  {
   "cell_type": "code",
   "execution_count": 4,
   "id": "6430cd7b-90be-442f-a121-5b0fcf2c0583",
   "metadata": {},
   "outputs": [],
   "source": [
    "import pandas as pd\n",
    "train = pd.read_csv(\"train_data_cleaned.csv\")\n",
    "val = pd.read_csv(\"validation_data_cleaned.csv\")"
   ]
  },
  {
   "cell_type": "code",
   "execution_count": 5,
   "id": "402d706a-e471-47a2-b386-7dba1183d98d",
   "metadata": {},
   "outputs": [],
   "source": [
    "train = train.iloc[0:3000].copy()\n",
    "val = val.iloc[0:300].copy()"
   ]
  },
  {
   "cell_type": "code",
   "execution_count": 6,
   "id": "e2dd7580-b1bb-4473-8eab-3b26da7d8dc9",
   "metadata": {},
   "outputs": [
    {
     "name": "stdout",
     "output_type": "stream",
     "text": [
      "                                         short_question  \\\n",
      "0     can an antibiotic through an iv give you a ras...   \n",
      "1     can you test positive from having the hep b va...   \n",
      "2     what are the dietary restrictions for celiac d...   \n",
      "3     i have had a pneumonia shot can i get either a...   \n",
      "4     my baby ate her on poop my baby ate poop 4 day...   \n",
      "...                                                 ...   \n",
      "2995  is inhaling clorox dangerous if you had a pneu...   \n",
      "2996  what treatment is suggested for non dysplasia ...   \n",
      "2997               what are the risks of genital herpes   \n",
      "2998  my periods have always been weird – never norm...   \n",
      "2999  what can cause prolonged male discharge  my hu...   \n",
      "\n",
      "                                           short_answer  \\\n",
      "0     yes it can even after you have finished the pr...   \n",
      "1     test positive for what if you had a hep b vacc...   \n",
      "2     omitting gluten from the diet is the key to co...   \n",
      "3     you can always catch an illness from a child b...   \n",
      "4     hi one of ours did that she is now 47 and a mu...   \n",
      "...                                                 ...   \n",
      "2995  i think so because when i have used clorox in ...   \n",
      "2996  the simple answer to this question is that at ...   \n",
      "2997  genital herpes is rarely life threatening but ...   \n",
      "2998  while it is uncommon to conceive after having ...   \n",
      "2999  it could be prostatitis or something more seri...   \n",
      "\n",
      "                                                   tags  label  \n",
      "0                                 ['rash' 'antibiotic']    1.0  \n",
      "1                                       ['hepatitis b']    1.0  \n",
      "2                                    ['celiac disease']    1.0  \n",
      "3             ['pneumonia' 'sinus infection' 'walking']    1.0  \n",
      "4            ['baby' 'cough' 'fever' 'coldness' 'cold']    1.0  \n",
      "...                                                 ...    ...  \n",
      "2995                  ['pneumonia' 'antibiotic' 'lung']    1.0  \n",
      "2996  ['esophagus' 'endoscopy' 'corpulence' 'smoking...    1.0  \n",
      "2997                                 ['genital herpes']    1.0  \n",
      "2998                                               ['']    1.0  \n",
      "2999            ['sexually transmitted disease' 'pain']    1.0  \n",
      "\n",
      "[3000 rows x 4 columns]\n"
     ]
    }
   ],
   "source": [
    "print(train)"
   ]
  },
  {
   "cell_type": "code",
   "execution_count": 7,
   "id": "389e2e44-e652-468c-994e-a197d604f375",
   "metadata": {
    "scrolled": true
   },
   "outputs": [
    {
     "data": {
      "text/plain": [
       "Dataset({\n",
       "    features: ['short_question', 'short_answer', 'tags', 'label'],\n",
       "    num_rows: 3000\n",
       "})"
      ]
     },
     "execution_count": 7,
     "metadata": {},
     "output_type": "execute_result"
    }
   ],
   "source": [
    "from datasets import load_dataset\n",
    "from datasets import Dataset\n",
    "train = Dataset.from_pandas(train)\n",
    "train"
   ]
  },
  {
   "cell_type": "code",
   "execution_count": 8,
   "id": "f296c5a3-6ddc-49c0-bb31-405d89f69d66",
   "metadata": {},
   "outputs": [
    {
     "data": {
      "text/plain": [
       "Dataset({\n",
       "    features: ['short_question', 'short_answer', 'tags', 'label'],\n",
       "    num_rows: 300\n",
       "})"
      ]
     },
     "execution_count": 8,
     "metadata": {},
     "output_type": "execute_result"
    }
   ],
   "source": [
    "val = Dataset.from_pandas(val)\n",
    "val"
   ]
  },
  {
   "cell_type": "markdown",
   "id": "08fdba67-163a-496d-baad-f6f17692db11",
   "metadata": {},
   "source": [
    "# Loading the Flan-T5 model"
   ]
  },
  {
   "cell_type": "code",
   "execution_count": 9,
   "id": "6b0fbc02-4520-41cd-b65d-dc67950dc34a",
   "metadata": {},
   "outputs": [
    {
     "name": "stderr",
     "output_type": "stream",
     "text": [
      "You are using the default legacy behaviour of the <class 'transformers.models.t5.tokenization_t5.T5Tokenizer'>. This is expected, and simply means that the `legacy` (previous) behavior will be used so nothing changes for you. If you want to use the new behaviour, set `legacy=False`. This should only be set if you understand what it means, and thoroughly read the reason why this was added as explained in https://github.com/huggingface/transformers/pull/24565\n"
     ]
    }
   ],
   "source": [
    "# Load the tokenizer, model, and data collator\n",
    "tokenizer = T5Tokenizer.from_pretrained(\"google/flan-t5-base\")\n",
    "model = T5ForConditionalGeneration.from_pretrained(\"google/flan-t5-base\")\n",
    "data_collator = DataCollatorForSeq2Seq(tokenizer=tokenizer, model=model)"
   ]
  },
  {
   "cell_type": "code",
   "execution_count": 10,
   "id": "c997a2c9-638a-4734-ae1c-04b9141c5d0c",
   "metadata": {},
   "outputs": [
    {
     "name": "stdout",
     "output_type": "stream",
     "text": [
      "trainable model parameters: 247577856\n",
      "all model parameters: 247577856\n",
      "percentage of trainable model parameters: 100.00%\n"
     ]
    }
   ],
   "source": [
    "def print_number_of_trainable_model_parameters(model_name):\n",
    "    trainable_model_params = 0\n",
    "    all_model_params = 0\n",
    "    for _, param in model.named_parameters():\n",
    "        all_model_params += param.numel()\n",
    "        if param.requires_grad:\n",
    "            trainable_model_params += param.numel()\n",
    "    return f\"trainable model parameters: {trainable_model_params}\\nall model parameters: {all_model_params}\\npercentage of trainable model parameters: {100 * trainable_model_params / all_model_params:.2f}%\"\n",
    "\n",
    "print(print_number_of_trainable_model_parameters(model))"
   ]
  },
  {
   "cell_type": "code",
   "execution_count": 11,
   "id": "80f1a277-95a6-44f2-a76b-abdacdf12dcb",
   "metadata": {
    "scrolled": true
   },
   "outputs": [
    {
     "name": "stdout",
     "output_type": "stream",
     "text": [
      "T5ForConditionalGeneration(\n",
      "  (shared): Embedding(32128, 768)\n",
      "  (encoder): T5Stack(\n",
      "    (embed_tokens): Embedding(32128, 768)\n",
      "    (block): ModuleList(\n",
      "      (0): T5Block(\n",
      "        (layer): ModuleList(\n",
      "          (0): T5LayerSelfAttention(\n",
      "            (SelfAttention): T5Attention(\n",
      "              (q): Linear(in_features=768, out_features=768, bias=False)\n",
      "              (k): Linear(in_features=768, out_features=768, bias=False)\n",
      "              (v): Linear(in_features=768, out_features=768, bias=False)\n",
      "              (o): Linear(in_features=768, out_features=768, bias=False)\n",
      "              (relative_attention_bias): Embedding(32, 12)\n",
      "            )\n",
      "            (layer_norm): T5LayerNorm()\n",
      "            (dropout): Dropout(p=0.1, inplace=False)\n",
      "          )\n",
      "          (1): T5LayerFF(\n",
      "            (DenseReluDense): T5DenseGatedActDense(\n",
      "              (wi_0): Linear(in_features=768, out_features=2048, bias=False)\n",
      "              (wi_1): Linear(in_features=768, out_features=2048, bias=False)\n",
      "              (wo): Linear(in_features=2048, out_features=768, bias=False)\n",
      "              (dropout): Dropout(p=0.1, inplace=False)\n",
      "              (act): NewGELUActivation()\n",
      "            )\n",
      "            (layer_norm): T5LayerNorm()\n",
      "            (dropout): Dropout(p=0.1, inplace=False)\n",
      "          )\n",
      "        )\n",
      "      )\n",
      "      (1-11): 11 x T5Block(\n",
      "        (layer): ModuleList(\n",
      "          (0): T5LayerSelfAttention(\n",
      "            (SelfAttention): T5Attention(\n",
      "              (q): Linear(in_features=768, out_features=768, bias=False)\n",
      "              (k): Linear(in_features=768, out_features=768, bias=False)\n",
      "              (v): Linear(in_features=768, out_features=768, bias=False)\n",
      "              (o): Linear(in_features=768, out_features=768, bias=False)\n",
      "            )\n",
      "            (layer_norm): T5LayerNorm()\n",
      "            (dropout): Dropout(p=0.1, inplace=False)\n",
      "          )\n",
      "          (1): T5LayerFF(\n",
      "            (DenseReluDense): T5DenseGatedActDense(\n",
      "              (wi_0): Linear(in_features=768, out_features=2048, bias=False)\n",
      "              (wi_1): Linear(in_features=768, out_features=2048, bias=False)\n",
      "              (wo): Linear(in_features=2048, out_features=768, bias=False)\n",
      "              (dropout): Dropout(p=0.1, inplace=False)\n",
      "              (act): NewGELUActivation()\n",
      "            )\n",
      "            (layer_norm): T5LayerNorm()\n",
      "            (dropout): Dropout(p=0.1, inplace=False)\n",
      "          )\n",
      "        )\n",
      "      )\n",
      "    )\n",
      "    (final_layer_norm): T5LayerNorm()\n",
      "    (dropout): Dropout(p=0.1, inplace=False)\n",
      "  )\n",
      "  (decoder): T5Stack(\n",
      "    (embed_tokens): Embedding(32128, 768)\n",
      "    (block): ModuleList(\n",
      "      (0): T5Block(\n",
      "        (layer): ModuleList(\n",
      "          (0): T5LayerSelfAttention(\n",
      "            (SelfAttention): T5Attention(\n",
      "              (q): Linear(in_features=768, out_features=768, bias=False)\n",
      "              (k): Linear(in_features=768, out_features=768, bias=False)\n",
      "              (v): Linear(in_features=768, out_features=768, bias=False)\n",
      "              (o): Linear(in_features=768, out_features=768, bias=False)\n",
      "              (relative_attention_bias): Embedding(32, 12)\n",
      "            )\n",
      "            (layer_norm): T5LayerNorm()\n",
      "            (dropout): Dropout(p=0.1, inplace=False)\n",
      "          )\n",
      "          (1): T5LayerCrossAttention(\n",
      "            (EncDecAttention): T5Attention(\n",
      "              (q): Linear(in_features=768, out_features=768, bias=False)\n",
      "              (k): Linear(in_features=768, out_features=768, bias=False)\n",
      "              (v): Linear(in_features=768, out_features=768, bias=False)\n",
      "              (o): Linear(in_features=768, out_features=768, bias=False)\n",
      "            )\n",
      "            (layer_norm): T5LayerNorm()\n",
      "            (dropout): Dropout(p=0.1, inplace=False)\n",
      "          )\n",
      "          (2): T5LayerFF(\n",
      "            (DenseReluDense): T5DenseGatedActDense(\n",
      "              (wi_0): Linear(in_features=768, out_features=2048, bias=False)\n",
      "              (wi_1): Linear(in_features=768, out_features=2048, bias=False)\n",
      "              (wo): Linear(in_features=2048, out_features=768, bias=False)\n",
      "              (dropout): Dropout(p=0.1, inplace=False)\n",
      "              (act): NewGELUActivation()\n",
      "            )\n",
      "            (layer_norm): T5LayerNorm()\n",
      "            (dropout): Dropout(p=0.1, inplace=False)\n",
      "          )\n",
      "        )\n",
      "      )\n",
      "      (1-11): 11 x T5Block(\n",
      "        (layer): ModuleList(\n",
      "          (0): T5LayerSelfAttention(\n",
      "            (SelfAttention): T5Attention(\n",
      "              (q): Linear(in_features=768, out_features=768, bias=False)\n",
      "              (k): Linear(in_features=768, out_features=768, bias=False)\n",
      "              (v): Linear(in_features=768, out_features=768, bias=False)\n",
      "              (o): Linear(in_features=768, out_features=768, bias=False)\n",
      "            )\n",
      "            (layer_norm): T5LayerNorm()\n",
      "            (dropout): Dropout(p=0.1, inplace=False)\n",
      "          )\n",
      "          (1): T5LayerCrossAttention(\n",
      "            (EncDecAttention): T5Attention(\n",
      "              (q): Linear(in_features=768, out_features=768, bias=False)\n",
      "              (k): Linear(in_features=768, out_features=768, bias=False)\n",
      "              (v): Linear(in_features=768, out_features=768, bias=False)\n",
      "              (o): Linear(in_features=768, out_features=768, bias=False)\n",
      "            )\n",
      "            (layer_norm): T5LayerNorm()\n",
      "            (dropout): Dropout(p=0.1, inplace=False)\n",
      "          )\n",
      "          (2): T5LayerFF(\n",
      "            (DenseReluDense): T5DenseGatedActDense(\n",
      "              (wi_0): Linear(in_features=768, out_features=2048, bias=False)\n",
      "              (wi_1): Linear(in_features=768, out_features=2048, bias=False)\n",
      "              (wo): Linear(in_features=2048, out_features=768, bias=False)\n",
      "              (dropout): Dropout(p=0.1, inplace=False)\n",
      "              (act): NewGELUActivation()\n",
      "            )\n",
      "            (layer_norm): T5LayerNorm()\n",
      "            (dropout): Dropout(p=0.1, inplace=False)\n",
      "          )\n",
      "        )\n",
      "      )\n",
      "    )\n",
      "    (final_layer_norm): T5LayerNorm()\n",
      "    (dropout): Dropout(p=0.1, inplace=False)\n",
      "  )\n",
      "  (lm_head): Linear(in_features=768, out_features=32128, bias=False)\n",
      ")\n"
     ]
    }
   ],
   "source": [
    "print(model)"
   ]
  },
  {
   "cell_type": "code",
   "execution_count": 12,
   "id": "84b039a1-dfa9-4fbf-a2c8-bc3c4b0da256",
   "metadata": {},
   "outputs": [],
   "source": [
    "from peft import LoraConfig, get_peft_model, TaskType\n",
    "\n",
    "lora_config = LoraConfig(\n",
    "    r=8, \n",
    "    lora_alpha=32, \n",
    "    target_modules=[\"q\", \"v\"], \n",
    "    lora_dropout=0.1, \n",
    "    bias=\"none\", \n",
    "    task_type=TaskType.SEQ_2_SEQ_LM \n",
    ")"
   ]
  },
  {
   "cell_type": "code",
   "execution_count": 13,
   "id": "4863f0df-bbfa-4b38-907b-76ff69dec611",
   "metadata": {},
   "outputs": [],
   "source": [
    "peft_model = get_peft_model(model, lora_config)"
   ]
  },
  {
   "cell_type": "code",
   "execution_count": 14,
   "id": "d6fe910f-3266-4511-a712-3dcb1442d495",
   "metadata": {},
   "outputs": [
    {
     "name": "stdout",
     "output_type": "stream",
     "text": [
      "PeftModelForSeq2SeqLM(\n",
      "  (base_model): LoraModel(\n",
      "    (model): T5ForConditionalGeneration(\n",
      "      (shared): Embedding(32128, 768)\n",
      "      (encoder): T5Stack(\n",
      "        (embed_tokens): Embedding(32128, 768)\n",
      "        (block): ModuleList(\n",
      "          (0): T5Block(\n",
      "            (layer): ModuleList(\n",
      "              (0): T5LayerSelfAttention(\n",
      "                (SelfAttention): T5Attention(\n",
      "                  (q): lora.Linear(\n",
      "                    (base_layer): Linear(in_features=768, out_features=768, bias=False)\n",
      "                    (lora_dropout): ModuleDict(\n",
      "                      (default): Dropout(p=0.1, inplace=False)\n",
      "                    )\n",
      "                    (lora_A): ModuleDict(\n",
      "                      (default): Linear(in_features=768, out_features=8, bias=False)\n",
      "                    )\n",
      "                    (lora_B): ModuleDict(\n",
      "                      (default): Linear(in_features=8, out_features=768, bias=False)\n",
      "                    )\n",
      "                    (lora_embedding_A): ParameterDict()\n",
      "                    (lora_embedding_B): ParameterDict()\n",
      "                    (lora_magnitude_vector): ModuleDict()\n",
      "                  )\n",
      "                  (k): Linear(in_features=768, out_features=768, bias=False)\n",
      "                  (v): lora.Linear(\n",
      "                    (base_layer): Linear(in_features=768, out_features=768, bias=False)\n",
      "                    (lora_dropout): ModuleDict(\n",
      "                      (default): Dropout(p=0.1, inplace=False)\n",
      "                    )\n",
      "                    (lora_A): ModuleDict(\n",
      "                      (default): Linear(in_features=768, out_features=8, bias=False)\n",
      "                    )\n",
      "                    (lora_B): ModuleDict(\n",
      "                      (default): Linear(in_features=8, out_features=768, bias=False)\n",
      "                    )\n",
      "                    (lora_embedding_A): ParameterDict()\n",
      "                    (lora_embedding_B): ParameterDict()\n",
      "                    (lora_magnitude_vector): ModuleDict()\n",
      "                  )\n",
      "                  (o): Linear(in_features=768, out_features=768, bias=False)\n",
      "                  (relative_attention_bias): Embedding(32, 12)\n",
      "                )\n",
      "                (layer_norm): T5LayerNorm()\n",
      "                (dropout): Dropout(p=0.1, inplace=False)\n",
      "              )\n",
      "              (1): T5LayerFF(\n",
      "                (DenseReluDense): T5DenseGatedActDense(\n",
      "                  (wi_0): Linear(in_features=768, out_features=2048, bias=False)\n",
      "                  (wi_1): Linear(in_features=768, out_features=2048, bias=False)\n",
      "                  (wo): Linear(in_features=2048, out_features=768, bias=False)\n",
      "                  (dropout): Dropout(p=0.1, inplace=False)\n",
      "                  (act): NewGELUActivation()\n",
      "                )\n",
      "                (layer_norm): T5LayerNorm()\n",
      "                (dropout): Dropout(p=0.1, inplace=False)\n",
      "              )\n",
      "            )\n",
      "          )\n",
      "          (1-11): 11 x T5Block(\n",
      "            (layer): ModuleList(\n",
      "              (0): T5LayerSelfAttention(\n",
      "                (SelfAttention): T5Attention(\n",
      "                  (q): lora.Linear(\n",
      "                    (base_layer): Linear(in_features=768, out_features=768, bias=False)\n",
      "                    (lora_dropout): ModuleDict(\n",
      "                      (default): Dropout(p=0.1, inplace=False)\n",
      "                    )\n",
      "                    (lora_A): ModuleDict(\n",
      "                      (default): Linear(in_features=768, out_features=8, bias=False)\n",
      "                    )\n",
      "                    (lora_B): ModuleDict(\n",
      "                      (default): Linear(in_features=8, out_features=768, bias=False)\n",
      "                    )\n",
      "                    (lora_embedding_A): ParameterDict()\n",
      "                    (lora_embedding_B): ParameterDict()\n",
      "                    (lora_magnitude_vector): ModuleDict()\n",
      "                  )\n",
      "                  (k): Linear(in_features=768, out_features=768, bias=False)\n",
      "                  (v): lora.Linear(\n",
      "                    (base_layer): Linear(in_features=768, out_features=768, bias=False)\n",
      "                    (lora_dropout): ModuleDict(\n",
      "                      (default): Dropout(p=0.1, inplace=False)\n",
      "                    )\n",
      "                    (lora_A): ModuleDict(\n",
      "                      (default): Linear(in_features=768, out_features=8, bias=False)\n",
      "                    )\n",
      "                    (lora_B): ModuleDict(\n",
      "                      (default): Linear(in_features=8, out_features=768, bias=False)\n",
      "                    )\n",
      "                    (lora_embedding_A): ParameterDict()\n",
      "                    (lora_embedding_B): ParameterDict()\n",
      "                    (lora_magnitude_vector): ModuleDict()\n",
      "                  )\n",
      "                  (o): Linear(in_features=768, out_features=768, bias=False)\n",
      "                )\n",
      "                (layer_norm): T5LayerNorm()\n",
      "                (dropout): Dropout(p=0.1, inplace=False)\n",
      "              )\n",
      "              (1): T5LayerFF(\n",
      "                (DenseReluDense): T5DenseGatedActDense(\n",
      "                  (wi_0): Linear(in_features=768, out_features=2048, bias=False)\n",
      "                  (wi_1): Linear(in_features=768, out_features=2048, bias=False)\n",
      "                  (wo): Linear(in_features=2048, out_features=768, bias=False)\n",
      "                  (dropout): Dropout(p=0.1, inplace=False)\n",
      "                  (act): NewGELUActivation()\n",
      "                )\n",
      "                (layer_norm): T5LayerNorm()\n",
      "                (dropout): Dropout(p=0.1, inplace=False)\n",
      "              )\n",
      "            )\n",
      "          )\n",
      "        )\n",
      "        (final_layer_norm): T5LayerNorm()\n",
      "        (dropout): Dropout(p=0.1, inplace=False)\n",
      "      )\n",
      "      (decoder): T5Stack(\n",
      "        (embed_tokens): Embedding(32128, 768)\n",
      "        (block): ModuleList(\n",
      "          (0): T5Block(\n",
      "            (layer): ModuleList(\n",
      "              (0): T5LayerSelfAttention(\n",
      "                (SelfAttention): T5Attention(\n",
      "                  (q): lora.Linear(\n",
      "                    (base_layer): Linear(in_features=768, out_features=768, bias=False)\n",
      "                    (lora_dropout): ModuleDict(\n",
      "                      (default): Dropout(p=0.1, inplace=False)\n",
      "                    )\n",
      "                    (lora_A): ModuleDict(\n",
      "                      (default): Linear(in_features=768, out_features=8, bias=False)\n",
      "                    )\n",
      "                    (lora_B): ModuleDict(\n",
      "                      (default): Linear(in_features=8, out_features=768, bias=False)\n",
      "                    )\n",
      "                    (lora_embedding_A): ParameterDict()\n",
      "                    (lora_embedding_B): ParameterDict()\n",
      "                    (lora_magnitude_vector): ModuleDict()\n",
      "                  )\n",
      "                  (k): Linear(in_features=768, out_features=768, bias=False)\n",
      "                  (v): lora.Linear(\n",
      "                    (base_layer): Linear(in_features=768, out_features=768, bias=False)\n",
      "                    (lora_dropout): ModuleDict(\n",
      "                      (default): Dropout(p=0.1, inplace=False)\n",
      "                    )\n",
      "                    (lora_A): ModuleDict(\n",
      "                      (default): Linear(in_features=768, out_features=8, bias=False)\n",
      "                    )\n",
      "                    (lora_B): ModuleDict(\n",
      "                      (default): Linear(in_features=8, out_features=768, bias=False)\n",
      "                    )\n",
      "                    (lora_embedding_A): ParameterDict()\n",
      "                    (lora_embedding_B): ParameterDict()\n",
      "                    (lora_magnitude_vector): ModuleDict()\n",
      "                  )\n",
      "                  (o): Linear(in_features=768, out_features=768, bias=False)\n",
      "                  (relative_attention_bias): Embedding(32, 12)\n",
      "                )\n",
      "                (layer_norm): T5LayerNorm()\n",
      "                (dropout): Dropout(p=0.1, inplace=False)\n",
      "              )\n",
      "              (1): T5LayerCrossAttention(\n",
      "                (EncDecAttention): T5Attention(\n",
      "                  (q): lora.Linear(\n",
      "                    (base_layer): Linear(in_features=768, out_features=768, bias=False)\n",
      "                    (lora_dropout): ModuleDict(\n",
      "                      (default): Dropout(p=0.1, inplace=False)\n",
      "                    )\n",
      "                    (lora_A): ModuleDict(\n",
      "                      (default): Linear(in_features=768, out_features=8, bias=False)\n",
      "                    )\n",
      "                    (lora_B): ModuleDict(\n",
      "                      (default): Linear(in_features=8, out_features=768, bias=False)\n",
      "                    )\n",
      "                    (lora_embedding_A): ParameterDict()\n",
      "                    (lora_embedding_B): ParameterDict()\n",
      "                    (lora_magnitude_vector): ModuleDict()\n",
      "                  )\n",
      "                  (k): Linear(in_features=768, out_features=768, bias=False)\n",
      "                  (v): lora.Linear(\n",
      "                    (base_layer): Linear(in_features=768, out_features=768, bias=False)\n",
      "                    (lora_dropout): ModuleDict(\n",
      "                      (default): Dropout(p=0.1, inplace=False)\n",
      "                    )\n",
      "                    (lora_A): ModuleDict(\n",
      "                      (default): Linear(in_features=768, out_features=8, bias=False)\n",
      "                    )\n",
      "                    (lora_B): ModuleDict(\n",
      "                      (default): Linear(in_features=8, out_features=768, bias=False)\n",
      "                    )\n",
      "                    (lora_embedding_A): ParameterDict()\n",
      "                    (lora_embedding_B): ParameterDict()\n",
      "                    (lora_magnitude_vector): ModuleDict()\n",
      "                  )\n",
      "                  (o): Linear(in_features=768, out_features=768, bias=False)\n",
      "                )\n",
      "                (layer_norm): T5LayerNorm()\n",
      "                (dropout): Dropout(p=0.1, inplace=False)\n",
      "              )\n",
      "              (2): T5LayerFF(\n",
      "                (DenseReluDense): T5DenseGatedActDense(\n",
      "                  (wi_0): Linear(in_features=768, out_features=2048, bias=False)\n",
      "                  (wi_1): Linear(in_features=768, out_features=2048, bias=False)\n",
      "                  (wo): Linear(in_features=2048, out_features=768, bias=False)\n",
      "                  (dropout): Dropout(p=0.1, inplace=False)\n",
      "                  (act): NewGELUActivation()\n",
      "                )\n",
      "                (layer_norm): T5LayerNorm()\n",
      "                (dropout): Dropout(p=0.1, inplace=False)\n",
      "              )\n",
      "            )\n",
      "          )\n",
      "          (1-11): 11 x T5Block(\n",
      "            (layer): ModuleList(\n",
      "              (0): T5LayerSelfAttention(\n",
      "                (SelfAttention): T5Attention(\n",
      "                  (q): lora.Linear(\n",
      "                    (base_layer): Linear(in_features=768, out_features=768, bias=False)\n",
      "                    (lora_dropout): ModuleDict(\n",
      "                      (default): Dropout(p=0.1, inplace=False)\n",
      "                    )\n",
      "                    (lora_A): ModuleDict(\n",
      "                      (default): Linear(in_features=768, out_features=8, bias=False)\n",
      "                    )\n",
      "                    (lora_B): ModuleDict(\n",
      "                      (default): Linear(in_features=8, out_features=768, bias=False)\n",
      "                    )\n",
      "                    (lora_embedding_A): ParameterDict()\n",
      "                    (lora_embedding_B): ParameterDict()\n",
      "                    (lora_magnitude_vector): ModuleDict()\n",
      "                  )\n",
      "                  (k): Linear(in_features=768, out_features=768, bias=False)\n",
      "                  (v): lora.Linear(\n",
      "                    (base_layer): Linear(in_features=768, out_features=768, bias=False)\n",
      "                    (lora_dropout): ModuleDict(\n",
      "                      (default): Dropout(p=0.1, inplace=False)\n",
      "                    )\n",
      "                    (lora_A): ModuleDict(\n",
      "                      (default): Linear(in_features=768, out_features=8, bias=False)\n",
      "                    )\n",
      "                    (lora_B): ModuleDict(\n",
      "                      (default): Linear(in_features=8, out_features=768, bias=False)\n",
      "                    )\n",
      "                    (lora_embedding_A): ParameterDict()\n",
      "                    (lora_embedding_B): ParameterDict()\n",
      "                    (lora_magnitude_vector): ModuleDict()\n",
      "                  )\n",
      "                  (o): Linear(in_features=768, out_features=768, bias=False)\n",
      "                )\n",
      "                (layer_norm): T5LayerNorm()\n",
      "                (dropout): Dropout(p=0.1, inplace=False)\n",
      "              )\n",
      "              (1): T5LayerCrossAttention(\n",
      "                (EncDecAttention): T5Attention(\n",
      "                  (q): lora.Linear(\n",
      "                    (base_layer): Linear(in_features=768, out_features=768, bias=False)\n",
      "                    (lora_dropout): ModuleDict(\n",
      "                      (default): Dropout(p=0.1, inplace=False)\n",
      "                    )\n",
      "                    (lora_A): ModuleDict(\n",
      "                      (default): Linear(in_features=768, out_features=8, bias=False)\n",
      "                    )\n",
      "                    (lora_B): ModuleDict(\n",
      "                      (default): Linear(in_features=8, out_features=768, bias=False)\n",
      "                    )\n",
      "                    (lora_embedding_A): ParameterDict()\n",
      "                    (lora_embedding_B): ParameterDict()\n",
      "                    (lora_magnitude_vector): ModuleDict()\n",
      "                  )\n",
      "                  (k): Linear(in_features=768, out_features=768, bias=False)\n",
      "                  (v): lora.Linear(\n",
      "                    (base_layer): Linear(in_features=768, out_features=768, bias=False)\n",
      "                    (lora_dropout): ModuleDict(\n",
      "                      (default): Dropout(p=0.1, inplace=False)\n",
      "                    )\n",
      "                    (lora_A): ModuleDict(\n",
      "                      (default): Linear(in_features=768, out_features=8, bias=False)\n",
      "                    )\n",
      "                    (lora_B): ModuleDict(\n",
      "                      (default): Linear(in_features=8, out_features=768, bias=False)\n",
      "                    )\n",
      "                    (lora_embedding_A): ParameterDict()\n",
      "                    (lora_embedding_B): ParameterDict()\n",
      "                    (lora_magnitude_vector): ModuleDict()\n",
      "                  )\n",
      "                  (o): Linear(in_features=768, out_features=768, bias=False)\n",
      "                )\n",
      "                (layer_norm): T5LayerNorm()\n",
      "                (dropout): Dropout(p=0.1, inplace=False)\n",
      "              )\n",
      "              (2): T5LayerFF(\n",
      "                (DenseReluDense): T5DenseGatedActDense(\n",
      "                  (wi_0): Linear(in_features=768, out_features=2048, bias=False)\n",
      "                  (wi_1): Linear(in_features=768, out_features=2048, bias=False)\n",
      "                  (wo): Linear(in_features=2048, out_features=768, bias=False)\n",
      "                  (dropout): Dropout(p=0.1, inplace=False)\n",
      "                  (act): NewGELUActivation()\n",
      "                )\n",
      "                (layer_norm): T5LayerNorm()\n",
      "                (dropout): Dropout(p=0.1, inplace=False)\n",
      "              )\n",
      "            )\n",
      "          )\n",
      "        )\n",
      "        (final_layer_norm): T5LayerNorm()\n",
      "        (dropout): Dropout(p=0.1, inplace=False)\n",
      "      )\n",
      "      (lm_head): Linear(in_features=768, out_features=32128, bias=False)\n",
      "    )\n",
      "  )\n",
      ")\n"
     ]
    }
   ],
   "source": [
    "print(peft_model)"
   ]
  },
  {
   "cell_type": "code",
   "execution_count": 15,
   "id": "d8936b3b-2560-47ef-9352-173bf29d605b",
   "metadata": {},
   "outputs": [
    {
     "name": "stdout",
     "output_type": "stream",
     "text": [
      "trainable model parameters: 884736\n",
      "all model parameters: 248462592\n",
      "percentage of trainable model parameters: 0.36%\n"
     ]
    }
   ],
   "source": [
    "print(print_number_of_trainable_model_parameters(peft_model))"
   ]
  },
  {
   "cell_type": "code",
   "execution_count": 16,
   "id": "a44bc574-7186-4330-ad4b-7bc680e1f78f",
   "metadata": {},
   "outputs": [
    {
     "name": "stderr",
     "output_type": "stream",
     "text": [
      "Map: 100%|██████████| 3000/3000 [00:01<00:00, 1739.97 examples/s]\n",
      "Map: 100%|██████████| 300/300 [00:00<00:00, 1709.12 examples/s]\n"
     ]
    }
   ],
   "source": [
    "# We prefix our tasks with \"answer the question\"\n",
    "prefix = \"answer the medical question: \"\n",
    "\n",
    "# Define our preprocessing function\n",
    "def preprocess_function(examples):\n",
    "    \"\"\"Add prefix to the sentences, tokenize the text, and set the labels\"\"\"\n",
    "    # The \"inputs\" are the tokenized answer:\n",
    "     # Drop unnecessary columns\n",
    "    examples.pop('tags', None)  # Remove 'tags' column if it exists\n",
    "    examples.pop('label', None)  # Remove 'label' column if it exists\n",
    "    inputs = [prefix + doc for doc in examples[\"short_question\"]]\n",
    "    model_inputs = tokenizer(inputs, max_length=128, truncation=True, padding='max_length')\n",
    "    \n",
    "    # The \"labels\" are the tokenized outputs:\n",
    "    labels = tokenizer(text_target=examples[\"short_answer\"], max_length=512, truncation=True, padding='max_length')\n",
    "    model_inputs[\"labels\"] = labels[\"input_ids\"]\n",
    "    return model_inputs\n",
    "\n",
    "# Map the preprocessing function across our dataset\n",
    "tokenized_train = train.map(preprocess_function, batched=True)\n",
    "tokenized_val = val.map(preprocess_function, batched=True)"
   ]
  },
  {
   "cell_type": "code",
   "execution_count": 17,
   "id": "cc0e72e9-e08d-4461-8a99-8b8b30ef96b6",
   "metadata": {},
   "outputs": [
    {
     "name": "stdout",
     "output_type": "stream",
     "text": [
      "{'short_question': 'can an antibiotic through an iv give you a rash a couple days later', 'short_answer': 'yes it can even after you have finished the prescription for antibiotics', 'input_ids': [1525, 8, 1035, 822, 10, 54, 46, 14458, 190, 46, 3, 23, 208, 428, 25, 3, 9, 3, 12380, 3, 9, 1158, 477, 865, 1, 0, 0, 0, 0, 0, 0, 0, 0, 0, 0, 0, 0, 0, 0, 0, 0, 0, 0, 0, 0, 0, 0, 0, 0, 0, 0, 0, 0, 0, 0, 0, 0, 0, 0, 0, 0, 0, 0, 0, 0, 0, 0, 0, 0, 0, 0, 0, 0, 0, 0, 0, 0, 0, 0, 0, 0, 0, 0, 0, 0, 0, 0, 0, 0, 0, 0, 0, 0, 0, 0, 0, 0, 0, 0, 0, 0, 0, 0, 0, 0, 0, 0, 0, 0, 0, 0, 0, 0, 0, 0, 0, 0, 0, 0, 0, 0, 0, 0, 0, 0, 0, 0, 0], 'attention_mask': [1, 1, 1, 1, 1, 1, 1, 1, 1, 1, 1, 1, 1, 1, 1, 1, 1, 1, 1, 1, 1, 1, 1, 1, 1, 0, 0, 0, 0, 0, 0, 0, 0, 0, 0, 0, 0, 0, 0, 0, 0, 0, 0, 0, 0, 0, 0, 0, 0, 0, 0, 0, 0, 0, 0, 0, 0, 0, 0, 0, 0, 0, 0, 0, 0, 0, 0, 0, 0, 0, 0, 0, 0, 0, 0, 0, 0, 0, 0, 0, 0, 0, 0, 0, 0, 0, 0, 0, 0, 0, 0, 0, 0, 0, 0, 0, 0, 0, 0, 0, 0, 0, 0, 0, 0, 0, 0, 0, 0, 0, 0, 0, 0, 0, 0, 0, 0, 0, 0, 0, 0, 0, 0, 0, 0, 0, 0, 0], 'labels': [4273, 34, 54, 237, 227, 25, 43, 2369, 8, 7744, 21, 14458, 7, 1, 0, 0, 0, 0, 0, 0, 0, 0, 0, 0, 0, 0, 0, 0, 0, 0, 0, 0, 0, 0, 0, 0, 0, 0, 0, 0, 0, 0, 0, 0, 0, 0, 0, 0, 0, 0, 0, 0, 0, 0, 0, 0, 0, 0, 0, 0, 0, 0, 0, 0, 0, 0, 0, 0, 0, 0, 0, 0, 0, 0, 0, 0, 0, 0, 0, 0, 0, 0, 0, 0, 0, 0, 0, 0, 0, 0, 0, 0, 0, 0, 0, 0, 0, 0, 0, 0, 0, 0, 0, 0, 0, 0, 0, 0, 0, 0, 0, 0, 0, 0, 0, 0, 0, 0, 0, 0, 0, 0, 0, 0, 0, 0, 0, 0, 0, 0, 0, 0, 0, 0, 0, 0, 0, 0, 0, 0, 0, 0, 0, 0, 0, 0, 0, 0, 0, 0, 0, 0, 0, 0, 0, 0, 0, 0, 0, 0, 0, 0, 0, 0, 0, 0, 0, 0, 0, 0, 0, 0, 0, 0, 0, 0, 0, 0, 0, 0, 0, 0, 0, 0, 0, 0, 0, 0, 0, 0, 0, 0, 0, 0, 0, 0, 0, 0, 0, 0, 0, 0, 0, 0, 0, 0, 0, 0, 0, 0, 0, 0, 0, 0, 0, 0, 0, 0, 0, 0, 0, 0, 0, 0, 0, 0, 0, 0, 0, 0, 0, 0, 0, 0, 0, 0, 0, 0, 0, 0, 0, 0, 0, 0, 0, 0, 0, 0, 0, 0, 0, 0, 0, 0, 0, 0, 0, 0, 0, 0, 0, 0, 0, 0, 0, 0, 0, 0, 0, 0, 0, 0, 0, 0, 0, 0, 0, 0, 0, 0, 0, 0, 0, 0, 0, 0, 0, 0, 0, 0, 0, 0, 0, 0, 0, 0, 0, 0, 0, 0, 0, 0, 0, 0, 0, 0, 0, 0, 0, 0, 0, 0, 0, 0, 0, 0, 0, 0, 0, 0, 0, 0, 0, 0, 0, 0, 0, 0, 0, 0, 0, 0, 0, 0, 0, 0, 0, 0, 0, 0, 0, 0, 0, 0, 0, 0, 0, 0, 0, 0, 0, 0, 0, 0, 0, 0, 0, 0, 0, 0, 0, 0, 0, 0, 0, 0, 0, 0, 0, 0, 0, 0, 0, 0, 0, 0, 0, 0, 0, 0, 0, 0, 0, 0, 0, 0, 0, 0, 0, 0, 0, 0, 0, 0, 0, 0, 0, 0, 0, 0, 0, 0, 0, 0, 0, 0, 0, 0, 0, 0, 0, 0, 0, 0, 0, 0, 0, 0, 0, 0, 0, 0, 0, 0, 0, 0, 0, 0, 0, 0, 0, 0, 0, 0, 0, 0, 0, 0, 0, 0, 0, 0, 0, 0, 0, 0, 0, 0, 0, 0, 0, 0, 0, 0, 0, 0, 0, 0, 0, 0, 0, 0, 0, 0, 0, 0, 0, 0, 0, 0, 0, 0, 0, 0, 0, 0, 0, 0, 0, 0, 0, 0, 0, 0, 0, 0, 0, 0, 0, 0, 0, 0, 0, 0, 0, 0, 0, 0, 0, 0, 0, 0, 0, 0, 0, 0, 0, 0, 0, 0, 0, 0]}\n"
     ]
    }
   ],
   "source": [
    "print(tokenized_train[0])"
   ]
  },
  {
   "cell_type": "code",
   "execution_count": 18,
   "id": "6fb78acc-ec82-420d-8dcc-973876e67e7e",
   "metadata": {},
   "outputs": [
    {
     "name": "stderr",
     "output_type": "stream",
     "text": [
      "[nltk_data] Downloading package punkt_tab to\n",
      "[nltk_data]     /common/home/projectgrps/CS425/CS425G12/nltk_data...\n",
      "[nltk_data]   Package punkt_tab is already up-to-date!\n",
      "[nltk_data] Downloading package punkt to\n",
      "[nltk_data]     /common/home/projectgrps/CS425/CS425G12/nltk_data...\n",
      "[nltk_data]   Package punkt is already up-to-date!\n"
     ]
    }
   ],
   "source": [
    "# Set up Rouge score for evaluation\n",
    "nltk.data.path.append('../nltk_data')\n",
    "nltk.download('punkt_tab')\n",
    "nltk.download(\"punkt\")\n",
    "metric = evaluate.load(\"rouge\")\n",
    "\n",
    "def compute_metrics(eval_preds):\n",
    "    preds, labels = eval_preds\n",
    "\n",
    "    # decode preds and labels\n",
    "    labels = np.where(labels != -100, labels, tokenizer.pad_token_id)\n",
    "    decoded_preds = tokenizer.batch_decode(preds, skip_special_tokens=True)\n",
    "    decoded_labels = tokenizer.batch_decode(labels, skip_special_tokens=True)\n",
    "\n",
    "    # rougeLSum expects newline after each sentence\n",
    "    decoded_preds = [\"\\n\".join(nltk.sent_tokenize(pred.strip())) for pred in decoded_preds]\n",
    "    decoded_labels = [\"\\n\".join(nltk.sent_tokenize(label.strip())) for label in decoded_labels]\n",
    "\n",
    "    result = metric.compute(predictions=decoded_preds, references=decoded_labels, use_stemmer=True)\n",
    "    return result"
   ]
  },
  {
   "cell_type": "code",
   "execution_count": 19,
   "id": "837470fd-9e7e-453d-8277-563c09d57b50",
   "metadata": {},
   "outputs": [
    {
     "name": "stdout",
     "output_type": "stream",
     "text": [
      "Punkt tokenizer is available.\n"
     ]
    }
   ],
   "source": [
    "try:\n",
    "    nltk.data.find('tokenizers/punkt')\n",
    "    print(\"Punkt tokenizer is available.\")\n",
    "except LookupError:\n",
    "    print(\"Punkt tokenizer is not available. You need to download it.\")"
   ]
  },
  {
   "cell_type": "code",
   "execution_count": 20,
   "id": "20ebe56d-2887-427b-a746-dc617467d0be",
   "metadata": {},
   "outputs": [
    {
     "name": "stderr",
     "output_type": "stream",
     "text": [
      "/common/home/projectgrps/CS425/CS425G12/jupyterlab-venv-pytorch-240/lib/python3.11/site-packages/transformers/training_args.py:1568: FutureWarning: `evaluation_strategy` is deprecated and will be removed in version 4.46 of 🤗 Transformers. Use `eval_strategy` instead\n",
      "  warnings.warn(\n",
      "/tmp/ipykernel_2569722/2341411328.py:22: FutureWarning: `tokenizer` is deprecated and will be removed in version 5.0.0 for `Seq2SeqTrainer.__init__`. Use `processing_class` instead.\n",
      "  trainer = Seq2SeqTrainer(\n",
      "Detected kernel version 4.18.0, which is below the recommended minimum of 5.5.0; this can cause the process to hang. It is recommended to upgrade the kernel to the minimum version or higher.\n"
     ]
    }
   ],
   "source": [
    "from transformers import Seq2SeqTrainer, Seq2SeqTrainingArguments\n",
    "\n",
    "# Set up training arguments with suggested changes\n",
    "training_args = Seq2SeqTrainingArguments(\n",
    "    output_dir=\"./31Oct_LoRA\",\n",
    "    evaluation_strategy=\"epoch\",\n",
    "    save_strategy=\"epoch\",  # Set save strategy to match evaluation strategy\n",
    "    learning_rate=2e-4,  # Adjusted learning rate\n",
    "    per_device_train_batch_size=8,\n",
    "    per_device_eval_batch_size=8,  # Increased evaluation batch size\n",
    "    weight_decay=0.1,  # Slightly increased weight decay\n",
    "    save_total_limit=3,\n",
    "    num_train_epochs=10,  # Reduced number of epochs for monitoring\n",
    "    predict_with_generate=True,\n",
    "    load_best_model_at_end=True,  # Load the best model at the end of training\n",
    "    metric_for_best_model='eval_loss',  # Metric to monitor\n",
    "    greater_is_better=False,  # False for loss\n",
    "    push_to_hub=False\n",
    ")\n",
    "\n",
    "# Set up trainer with TensorBoard callback\n",
    "trainer = Seq2SeqTrainer(\n",
    "    model=peft_model,\n",
    "    args=training_args,\n",
    "    train_dataset=tokenized_train,\n",
    "    eval_dataset=tokenized_val,\n",
    "    tokenizer=tokenizer,\n",
    "    data_collator=data_collator,\n",
    "    compute_metrics=compute_metrics,\n",
    ")"
   ]
  },
  {
   "cell_type": "code",
   "execution_count": 21,
   "id": "53d15730-a406-4c16-83ba-ff50b54f3322",
   "metadata": {},
   "outputs": [
    {
     "name": "stderr",
     "output_type": "stream",
     "text": [
      "Passing a tuple of `past_key_values` is deprecated and will be removed in Transformers v4.48.0. You should pass an instance of `EncoderDecoderCache` instead, e.g. `past_key_values=EncoderDecoderCache.from_legacy_cache(past_key_values)`.\n"
     ]
    },
    {
     "data": {
      "text/html": [
       "\n",
       "    <div>\n",
       "      \n",
       "      <progress value='3750' max='3750' style='width:300px; height:20px; vertical-align: middle;'></progress>\n",
       "      [3750/3750 24:23, Epoch 10/10]\n",
       "    </div>\n",
       "    <table border=\"1\" class=\"dataframe\">\n",
       "  <thead>\n",
       " <tr style=\"text-align: left;\">\n",
       "      <th>Epoch</th>\n",
       "      <th>Training Loss</th>\n",
       "      <th>Validation Loss</th>\n",
       "      <th>Rouge1</th>\n",
       "      <th>Rouge2</th>\n",
       "      <th>Rougel</th>\n",
       "      <th>Rougelsum</th>\n",
       "    </tr>\n",
       "  </thead>\n",
       "  <tbody>\n",
       "    <tr>\n",
       "      <td>1</td>\n",
       "      <td>No log</td>\n",
       "      <td>0.778308</td>\n",
       "      <td>0.127720</td>\n",
       "      <td>0.021748</td>\n",
       "      <td>0.098237</td>\n",
       "      <td>0.097866</td>\n",
       "    </tr>\n",
       "    <tr>\n",
       "      <td>2</td>\n",
       "      <td>4.896600</td>\n",
       "      <td>0.706820</td>\n",
       "      <td>0.125302</td>\n",
       "      <td>0.018167</td>\n",
       "      <td>0.097289</td>\n",
       "      <td>0.097125</td>\n",
       "    </tr>\n",
       "    <tr>\n",
       "      <td>3</td>\n",
       "      <td>0.794300</td>\n",
       "      <td>0.693231</td>\n",
       "      <td>0.122961</td>\n",
       "      <td>0.018337</td>\n",
       "      <td>0.093220</td>\n",
       "      <td>0.092959</td>\n",
       "    </tr>\n",
       "    <tr>\n",
       "      <td>4</td>\n",
       "      <td>0.768900</td>\n",
       "      <td>0.685863</td>\n",
       "      <td>0.126581</td>\n",
       "      <td>0.020614</td>\n",
       "      <td>0.094852</td>\n",
       "      <td>0.094677</td>\n",
       "    </tr>\n",
       "    <tr>\n",
       "      <td>5</td>\n",
       "      <td>0.768900</td>\n",
       "      <td>0.681389</td>\n",
       "      <td>0.128691</td>\n",
       "      <td>0.020565</td>\n",
       "      <td>0.096420</td>\n",
       "      <td>0.096463</td>\n",
       "    </tr>\n",
       "    <tr>\n",
       "      <td>6</td>\n",
       "      <td>0.745500</td>\n",
       "      <td>0.678482</td>\n",
       "      <td>0.128430</td>\n",
       "      <td>0.022987</td>\n",
       "      <td>0.097815</td>\n",
       "      <td>0.097948</td>\n",
       "    </tr>\n",
       "    <tr>\n",
       "      <td>7</td>\n",
       "      <td>0.748200</td>\n",
       "      <td>0.676311</td>\n",
       "      <td>0.130816</td>\n",
       "      <td>0.022857</td>\n",
       "      <td>0.098085</td>\n",
       "      <td>0.098102</td>\n",
       "    </tr>\n",
       "    <tr>\n",
       "      <td>8</td>\n",
       "      <td>0.724200</td>\n",
       "      <td>0.674688</td>\n",
       "      <td>0.133035</td>\n",
       "      <td>0.023208</td>\n",
       "      <td>0.101476</td>\n",
       "      <td>0.101291</td>\n",
       "    </tr>\n",
       "    <tr>\n",
       "      <td>9</td>\n",
       "      <td>0.724200</td>\n",
       "      <td>0.673589</td>\n",
       "      <td>0.138869</td>\n",
       "      <td>0.026116</td>\n",
       "      <td>0.104795</td>\n",
       "      <td>0.104718</td>\n",
       "    </tr>\n",
       "    <tr>\n",
       "      <td>10</td>\n",
       "      <td>0.726500</td>\n",
       "      <td>0.673306</td>\n",
       "      <td>0.137706</td>\n",
       "      <td>0.026434</td>\n",
       "      <td>0.104470</td>\n",
       "      <td>0.104536</td>\n",
       "    </tr>\n",
       "  </tbody>\n",
       "</table><p>"
      ],
      "text/plain": [
       "<IPython.core.display.HTML object>"
      ]
     },
     "metadata": {},
     "output_type": "display_data"
    },
    {
     "name": "stderr",
     "output_type": "stream",
     "text": [
      "/common/home/projectgrps/CS425/CS425G12/jupyterlab-venv-pytorch-240/lib/python3.11/site-packages/transformers/generation/utils.py:1375: UserWarning: Using the model-agnostic default `max_length` (=20) to control the generation length. We recommend setting `max_new_tokens` to control the maximum length of the generation.\n",
      "  warnings.warn(\n",
      "/common/home/projectgrps/CS425/CS425G12/jupyterlab-venv-pytorch-240/lib/python3.11/site-packages/transformers/generation/utils.py:1375: UserWarning: Using the model-agnostic default `max_length` (=20) to control the generation length. We recommend setting `max_new_tokens` to control the maximum length of the generation.\n",
      "  warnings.warn(\n",
      "/common/home/projectgrps/CS425/CS425G12/jupyterlab-venv-pytorch-240/lib/python3.11/site-packages/transformers/generation/utils.py:1375: UserWarning: Using the model-agnostic default `max_length` (=20) to control the generation length. We recommend setting `max_new_tokens` to control the maximum length of the generation.\n",
      "  warnings.warn(\n",
      "/common/home/projectgrps/CS425/CS425G12/jupyterlab-venv-pytorch-240/lib/python3.11/site-packages/transformers/generation/utils.py:1375: UserWarning: Using the model-agnostic default `max_length` (=20) to control the generation length. We recommend setting `max_new_tokens` to control the maximum length of the generation.\n",
      "  warnings.warn(\n",
      "/common/home/projectgrps/CS425/CS425G12/jupyterlab-venv-pytorch-240/lib/python3.11/site-packages/transformers/generation/utils.py:1375: UserWarning: Using the model-agnostic default `max_length` (=20) to control the generation length. We recommend setting `max_new_tokens` to control the maximum length of the generation.\n",
      "  warnings.warn(\n",
      "/common/home/projectgrps/CS425/CS425G12/jupyterlab-venv-pytorch-240/lib/python3.11/site-packages/transformers/generation/utils.py:1375: UserWarning: Using the model-agnostic default `max_length` (=20) to control the generation length. We recommend setting `max_new_tokens` to control the maximum length of the generation.\n",
      "  warnings.warn(\n",
      "/common/home/projectgrps/CS425/CS425G12/jupyterlab-venv-pytorch-240/lib/python3.11/site-packages/transformers/generation/utils.py:1375: UserWarning: Using the model-agnostic default `max_length` (=20) to control the generation length. We recommend setting `max_new_tokens` to control the maximum length of the generation.\n",
      "  warnings.warn(\n",
      "/common/home/projectgrps/CS425/CS425G12/jupyterlab-venv-pytorch-240/lib/python3.11/site-packages/transformers/generation/utils.py:1375: UserWarning: Using the model-agnostic default `max_length` (=20) to control the generation length. We recommend setting `max_new_tokens` to control the maximum length of the generation.\n",
      "  warnings.warn(\n",
      "/common/home/projectgrps/CS425/CS425G12/jupyterlab-venv-pytorch-240/lib/python3.11/site-packages/transformers/generation/utils.py:1375: UserWarning: Using the model-agnostic default `max_length` (=20) to control the generation length. We recommend setting `max_new_tokens` to control the maximum length of the generation.\n",
      "  warnings.warn(\n",
      "/common/home/projectgrps/CS425/CS425G12/jupyterlab-venv-pytorch-240/lib/python3.11/site-packages/transformers/generation/utils.py:1375: UserWarning: Using the model-agnostic default `max_length` (=20) to control the generation length. We recommend setting `max_new_tokens` to control the maximum length of the generation.\n",
      "  warnings.warn(\n"
     ]
    },
    {
     "data": {
      "text/plain": [
       "TrainOutput(global_step=3750, training_loss=1.3031244262695312, metrics={'train_runtime': 1463.8157, 'train_samples_per_second': 20.494, 'train_steps_per_second': 2.562, 'total_flos': 5156064460800000.0, 'train_loss': 1.3031244262695312, 'epoch': 10.0})"
      ]
     },
     "execution_count": 21,
     "metadata": {},
     "output_type": "execute_result"
    }
   ],
   "source": [
    "# Train the model\n",
    "trainer.train()"
   ]
  },
  {
   "cell_type": "code",
   "execution_count": 22,
   "id": "5abffc69-d821-4ca8-bd38-c66dcb0f1502",
   "metadata": {},
   "outputs": [
    {
     "name": "stderr",
     "output_type": "stream",
     "text": [
      "/common/home/projectgrps/CS425/CS425G12/jupyterlab-venv-pytorch-240/lib/python3.11/site-packages/transformers/generation/utils.py:1375: UserWarning: Using the model-agnostic default `max_length` (=20) to control the generation length. We recommend setting `max_new_tokens` to control the maximum length of the generation.\n",
      "  warnings.warn(\n"
     ]
    },
    {
     "data": {
      "text/html": [
       "\n",
       "    <div>\n",
       "      \n",
       "      <progress value='38' max='38' style='width:300px; height:20px; vertical-align: middle;'></progress>\n",
       "      [38/38 00:17]\n",
       "    </div>\n",
       "    "
      ],
      "text/plain": [
       "<IPython.core.display.HTML object>"
      ]
     },
     "metadata": {},
     "output_type": "display_data"
    },
    {
     "name": "stdout",
     "output_type": "stream",
     "text": [
      "Best Model Evaluation Results: {'eval_loss': 0.6733055114746094, 'eval_rouge1': 0.13770607640857024, 'eval_rouge2': 0.026433554053245732, 'eval_rougeL': 0.10447022827158786, 'eval_rougeLsum': 0.10453647709623715, 'eval_runtime': 26.581, 'eval_samples_per_second': 11.286, 'eval_steps_per_second': 1.43, 'epoch': 10.0}\n"
     ]
    }
   ],
   "source": [
    "# Evaluate the best model on the validation dataset\n",
    "eval_results = trainer.evaluate()\n",
    "\n",
    "# Display evaluation results\n",
    "print(\"Best Model Evaluation Results:\", eval_results)\n",
    "\n",
    "# Optionally save the best model\n",
    "trainer.save_model(\"./best_model_LoRA\")  # Use trainer's save_model method"
   ]
  },
  {
   "cell_type": "code",
   "execution_count": 23,
   "id": "a6bd6658-98ff-4906-9d10-3659bd45aaf0",
   "metadata": {},
   "outputs": [
    {
     "data": {
      "image/png": "[encoded data removed]",
      "text/plain": [
       "<Figure size 640x480 with 1 Axes>"
      ]
     },
     "metadata": {},
     "output_type": "display_data"
    }
   ],
   "source": [
    "import pandas as pd\n",
    "import matplotlib.pyplot as plt\n",
    "\n",
    "# Define the data\n",
    "data = {\n",
    "    'Epoch': [1, 2, 3, 4, 5, 6, 7, 8, 9, 10],\n",
    "    'Training Loss': [None, 4.896600, 0.794300, 0.768900, 0.768900, 0.745500, 0.748200, 0.724200, 0.724200, 0.726500],\n",
    "    'Validation Loss': [0.778308, 0.706820, 0.693231, 0.685863, 0.681389, 0.678482, 0.676311, 0.674688, 0.673589, 0.673306],\n",
    "    'Rouge1': [0.127720, 0.125302, 0.122961, 0.126581, 0.128691, 0.128430, 0.130816, 0.133035, 0.138869, 0.137706],\n",
    "    'Rouge2': [0.021748, 0.018167, 0.018337, 0.020614, 0.020565, 0.022987, 0.022857, 0.023208, 0.026116, 0.026434],\n",
    "    'Rougel': [0.098237, 0.097289, 0.093220, 0.094852, 0.096420, 0.097815, 0.098085, 0.101476, 0.104795, 0.104470],\n",
    "    'Rougelsum': [0.097866, 0.097125, 0.092959, 0.094677, 0.096463, 0.097948, 0.098102, 0.101291, 0.104718, 0.104536]\n",
    "}\n",
    "\n",
    "# Create a DataFrame\n",
    "df = pd.DataFrame(data)\n",
    "\n",
    "# Plot Training and Validation Loss\n",
    "plt.plot(df['Epoch'], df['Training Loss'], marker='o', label='Training Loss', color='blue')\n",
    "plt.plot(df['Epoch'], df['Validation Loss'], marker='o', label='Validation Loss', color='orange')\n",
    "plt.title('Training and Validation Loss')\n",
    "plt.xlabel('Epoch')\n",
    "plt.ylabel('Loss')\n",
    "plt.legend()\n",
    "plt.grid()\n",
    "\n",
    "plt.tight_layout()\n",
    "plt.show()"
   ]
  },
  {
   "cell_type": "code",
   "execution_count": 24,
   "id": "2c3e2eda-f6f3-41a4-b012-6b6f8bf3d96f",
   "metadata": {},
   "outputs": [
    {
     "data": {
      "image/png": "[encoded data removed]",
      "text/plain": [
       "<Figure size 640x480 with 1 Axes>"
      ]
     },
     "metadata": {},
     "output_type": "display_data"
    }
   ],
   "source": [
    "plt.plot(df['Epoch'], df['Validation Loss'], marker='o', label='Validation Loss', color='orange')\n",
    "plt.title('Validation Loss')\n",
    "plt.xlabel('Epoch')\n",
    "plt.ylabel('Loss')\n",
    "plt.legend()\n",
    "plt.grid()\n",
    "plt.tight_layout()\n",
    "plt.show()"
   ]
  },
  {
   "cell_type": "code",
   "execution_count": 25,
   "id": "67aff0e5-c8ce-4ae0-80f1-5983ae3585c8",
   "metadata": {},
   "outputs": [
    {
     "data": {
      "image/png": "[encoded data removed]",
      "text/plain": [
       "<Figure size 640x480 with 1 Axes>"
      ]
     },
     "metadata": {},
     "output_type": "display_data"
    }
   ],
   "source": [
    "# Plot ROUGE Scores\n",
    "plt.plot(df['Epoch'], df['Rouge1'], marker='o', label='Rouge1', color='green')\n",
    "plt.plot(df['Epoch'], df['Rouge2'], marker='o', label='Rouge2', color='red')\n",
    "plt.plot(df['Epoch'], df['Rougel'], marker='x', label='Rougel', color='blue')  # Dashed line with transparency\n",
    "plt.plot(df['Epoch'], df['Rougelsum'], marker='o', label='Rougelsum', color='brown',alpha=0.5)  # Dotted line style\n",
    "plt.title('ROUGE Scores')\n",
    "plt.xlabel('Epoch')\n",
    "plt.ylabel('Score')\n",
    "plt.legend()\n",
    "plt.grid()"
   ]
  },
  {
   "cell_type": "code",
   "execution_count": 26,
   "id": "a821611b-1b66-4d52-9b05-91bf16c18e7a",
   "metadata": {},
   "outputs": [
    {
     "name": "stdout",
     "output_type": "stream",
     "text": [
      "GPU memory occupied: 12804 MB.\n"
     ]
    }
   ],
   "source": [
    "print_gpu_utilization()"
   ]
  },
  {
   "cell_type": "code",
   "execution_count": 27,
   "id": "ad7eed4d-fbe7-4a2a-b497-7cc376282fc4",
   "metadata": {},
   "outputs": [],
   "source": [
    "import torch\n",
    "# Free memory for merging weights if needed\n",
    "del peft_model\n",
    "del model\n",
    "torch.cuda.empty_cache()"
   ]
  },
  {
   "cell_type": "code",
   "execution_count": 32,
   "id": "b16dd3a4-9f4c-4279-9f59-1397c2bab3c8",
   "metadata": {},
   "outputs": [
    {
     "name": "stdout",
     "output_type": "stream",
     "text": [
      "GPU memory occupied: 1788 MB.\n"
     ]
    }
   ],
   "source": [
    "print_gpu_utilization()"
   ]
  },
  {
   "cell_type": "markdown",
   "id": "92b33f5a-600c-4ab9-a0ef-9a63eb2f48b8",
   "metadata": {},
   "source": [
    "# Evaluation"
   ]
  },
  {
   "cell_type": "code",
   "execution_count": 29,
   "id": "e0ef817d-9416-46ec-b98d-e7b0dea70d72",
   "metadata": {},
   "outputs": [],
   "source": [
    "to_test = pd.read_csv(\"validation_data_cleaned.csv\")\n",
    "val_test = to_test.iloc[1:301].copy()"
   ]
  },
  {
   "cell_type": "code",
   "execution_count": 33,
   "id": "53b22d2d-b2e8-4259-830e-7abdd15d068a",
   "metadata": {},
   "outputs": [],
   "source": [
    "from peft import LoraConfig, get_peft_model, TaskType, PeftConfig, PeftModel\n",
    "\n",
    "# Load models\n",
    "original_model = T5ForConditionalGeneration.from_pretrained(\"google/flan-t5-base\")\n",
    "base_model = T5ForConditionalGeneration.from_pretrained(\"google/flan-t5-base\")\n",
    "adapter_config = PeftConfig.from_pretrained(\"./best_model_LoRA\")\n",
    "fine_tuned_model = PeftModel.from_pretrained(base_model,\"./best_model_LoRA\", adapter_config=adapter_config)\n",
    "\n",
    "# Load the tokenizer (same for both models)\n",
    "tokenizer = T5Tokenizer.from_pretrained(\"google/flan-t5-base\")"
   ]
  },
  {
   "cell_type": "code",
   "execution_count": 34,
   "id": "fc0d33ed-7468-4ad7-b24d-fc9e94b8e474",
   "metadata": {},
   "outputs": [
    {
     "name": "stderr",
     "output_type": "stream",
     "text": [
      "Generating Outputs:   0%|          | 0/300 [00:00<?, ?it/s]/common/home/projectgrps/CS425/CS425G12/jupyterlab-venv-pytorch-240/lib/python3.11/site-packages/transformers/generation/configuration_utils.py:595: UserWarning: `do_sample` is set to `False`. However, `top_p` is set to `0.95` -- this flag is only used in sample-based generation modes. You should set `do_sample=True` or unset `top_p`.\n",
      "  warnings.warn(\n",
      "Generating Outputs: 100%|██████████| 300/300 [36:30<00:00,  7.30s/it]\n"
     ]
    },
    {
     "data": {
      "text/html": [
       "<div>\n",
       "<style scoped>\n",
       "    .dataframe tbody tr th:only-of-type {\n",
       "        vertical-align: middle;\n",
       "    }\n",
       "\n",
       "    .dataframe tbody tr th {\n",
       "        vertical-align: top;\n",
       "    }\n",
       "\n",
       "    .dataframe thead th {\n",
       "        text-align: right;\n",
       "    }\n",
       "</style>\n",
       "<table border=\"1\" class=\"dataframe\">\n",
       "  <thead>\n",
       "    <tr style=\"text-align: right;\">\n",
       "      <th></th>\n",
       "      <th>Question</th>\n",
       "      <th>Human Answer</th>\n",
       "      <th>Original Model Answer</th>\n",
       "      <th>Fine-tuned Model Answer</th>\n",
       "    </tr>\n",
       "  </thead>\n",
       "  <tbody>\n",
       "    <tr>\n",
       "      <th>0</th>\n",
       "      <td>answer the medical question: i need to buy hea...</td>\n",
       "      <td>go to healthcare gov call my husband 407 222 9...</td>\n",
       "      <td>go to the doctor</td>\n",
       "      <td>you can get a health insurance plan from your ...</td>\n",
       "    </tr>\n",
       "    <tr>\n",
       "      <th>1</th>\n",
       "      <td>answer the medical question: i had an acute eb...</td>\n",
       "      <td>hi yes a chronic ebv infection also can be rul...</td>\n",
       "      <td>ebv antibody</td>\n",
       "      <td>i am not sure if you have a ebv antibody test ...</td>\n",
       "    </tr>\n",
       "    <tr>\n",
       "      <th>2</th>\n",
       "      <td>answer the medical question: i am 19 and have ...</td>\n",
       "      <td>it seems more of anxiety exercises yoga medita...</td>\n",
       "      <td>chest pain</td>\n",
       "      <td>hi i am not sure if you are a teen or a young ...</td>\n",
       "    </tr>\n",
       "    <tr>\n",
       "      <th>3</th>\n",
       "      <td>answer the medical question: hockey player has...</td>\n",
       "      <td>synovitis and cartilage damage seems to have o...</td>\n",
       "      <td>a swollen ankle</td>\n",
       "      <td>if you have a bruising ankle you should see a ...</td>\n",
       "    </tr>\n",
       "    <tr>\n",
       "      <th>4</th>\n",
       "      <td>answer the medical question: is dust a cause o...</td>\n",
       "      <td>dust can be contaminated with staph bacteria o...</td>\n",
       "      <td>dust</td>\n",
       "      <td>staph infection is a common cause of septic sh...</td>\n",
       "    </tr>\n",
       "    <tr>\n",
       "      <th>...</th>\n",
       "      <td>...</td>\n",
       "      <td>...</td>\n",
       "      <td>...</td>\n",
       "      <td>...</td>\n",
       "    </tr>\n",
       "    <tr>\n",
       "      <th>295</th>\n",
       "      <td>answer the medical question: i have ulcerative...</td>\n",
       "      <td>hi read this link its very informative about y...</td>\n",
       "      <td>i have ulcerative colitis i throw up everythin...</td>\n",
       "      <td>i am not sure if you are having a bowel moveme...</td>\n",
       "    </tr>\n",
       "    <tr>\n",
       "      <th>296</th>\n",
       "      <td>answer the medical question: i am having probl...</td>\n",
       "      <td>are the findings that you have quoted your imp...</td>\n",
       "      <td>i am having problems with my whole skeletal sy...</td>\n",
       "      <td>hi i am not sure what is wrong with your skele...</td>\n",
       "    </tr>\n",
       "    <tr>\n",
       "      <th>297</th>\n",
       "      <td>answer the medical question: how do i eat righ...</td>\n",
       "      <td>for the best fitness results it is important t...</td>\n",
       "      <td>eat a balanced diet</td>\n",
       "      <td>if you are not eating right you will not be ab...</td>\n",
       "    </tr>\n",
       "    <tr>\n",
       "      <th>298</th>\n",
       "      <td>answer the medical question: is b12 effective ...</td>\n",
       "      <td>b12 does have some beneficial effect with shin...</td>\n",
       "      <td>yes</td>\n",
       "      <td>b12 vitamin is a vitamin that helps with shing...</td>\n",
       "    </tr>\n",
       "    <tr>\n",
       "      <th>299</th>\n",
       "      <td>answer the medical question: i have a low bloo...</td>\n",
       "      <td>i think you should see your doctor if you have...</td>\n",
       "      <td>a sore throat</td>\n",
       "      <td>hi i am not sure if you have a low blood count...</td>\n",
       "    </tr>\n",
       "  </tbody>\n",
       "</table>\n",
       "<p>300 rows × 4 columns</p>\n",
       "</div>"
      ],
      "text/plain": [
       "                                              Question  \\\n",
       "0    answer the medical question: i need to buy hea...   \n",
       "1    answer the medical question: i had an acute eb...   \n",
       "2    answer the medical question: i am 19 and have ...   \n",
       "3    answer the medical question: hockey player has...   \n",
       "4    answer the medical question: is dust a cause o...   \n",
       "..                                                 ...   \n",
       "295  answer the medical question: i have ulcerative...   \n",
       "296  answer the medical question: i am having probl...   \n",
       "297  answer the medical question: how do i eat righ...   \n",
       "298  answer the medical question: is b12 effective ...   \n",
       "299  answer the medical question: i have a low bloo...   \n",
       "\n",
       "                                          Human Answer  \\\n",
       "0    go to healthcare gov call my husband 407 222 9...   \n",
       "1    hi yes a chronic ebv infection also can be rul...   \n",
       "2    it seems more of anxiety exercises yoga medita...   \n",
       "3    synovitis and cartilage damage seems to have o...   \n",
       "4    dust can be contaminated with staph bacteria o...   \n",
       "..                                                 ...   \n",
       "295  hi read this link its very informative about y...   \n",
       "296  are the findings that you have quoted your imp...   \n",
       "297  for the best fitness results it is important t...   \n",
       "298  b12 does have some beneficial effect with shin...   \n",
       "299  i think you should see your doctor if you have...   \n",
       "\n",
       "                                 Original Model Answer  \\\n",
       "0                                     go to the doctor   \n",
       "1                                         ebv antibody   \n",
       "2                                           chest pain   \n",
       "3                                      a swollen ankle   \n",
       "4                                                 dust   \n",
       "..                                                 ...   \n",
       "295  i have ulcerative colitis i throw up everythin...   \n",
       "296  i am having problems with my whole skeletal sy...   \n",
       "297                                eat a balanced diet   \n",
       "298                                                yes   \n",
       "299                                      a sore throat   \n",
       "\n",
       "                               Fine-tuned Model Answer  \n",
       "0    you can get a health insurance plan from your ...  \n",
       "1    i am not sure if you have a ebv antibody test ...  \n",
       "2    hi i am not sure if you are a teen or a young ...  \n",
       "3    if you have a bruising ankle you should see a ...  \n",
       "4    staph infection is a common cause of septic sh...  \n",
       "..                                                 ...  \n",
       "295  i am not sure if you are having a bowel moveme...  \n",
       "296  hi i am not sure what is wrong with your skele...  \n",
       "297  if you are not eating right you will not be ab...  \n",
       "298  b12 vitamin is a vitamin that helps with shing...  \n",
       "299  hi i am not sure if you have a low blood count...  \n",
       "\n",
       "[300 rows x 4 columns]"
      ]
     },
     "execution_count": 34,
     "metadata": {},
     "output_type": "execute_result"
    }
   ],
   "source": [
    "from transformers import T5ForConditionalGeneration, T5Tokenizer\n",
    "import pandas as pd\n",
    "import torch\n",
    "from tqdm import tqdm  # Import tqdm for progress tracking\n",
    "\n",
    "\n",
    "def generate_comparison_dataframe(original_model, fine_tuned_model, tokenizer):\n",
    "    \"\"\"\n",
    "    Generates a DataFrame comparing human answers with model outputs.\n",
    "\n",
    "    Args:\n",
    "        original_model: The pre-trained model (original).\n",
    "        fine_tuned_model: The fine-tuned model.\n",
    "        tokenizer: The tokenizer used for both models.\n",
    "\n",
    "    Returns:\n",
    "        comparison_df: DataFrame containing questions, human answers, original and fine-tuned model outputs.\n",
    "    \"\"\"\n",
    "    # Ensure both models are in evaluation mode\n",
    "    original_model.eval()\n",
    "    fine_tuned_model.eval()\n",
    "\n",
    "    # Initialize lists to hold the results\n",
    "    questions = []\n",
    "    human_answers = []\n",
    "    original_answers = []\n",
    "    fine_tuned_answers = []\n",
    "\n",
    "    # Generate predictions for each question in the train DataFrame\n",
    "    with torch.no_grad():\n",
    "        for index, row in tqdm(val_test.iterrows(), total=val_test.shape[0], desc=\"Generating Outputs\"):\n",
    "            question = \"answer the medical question: \" + row['short_question']\n",
    "            human_answer = row['short_answer']\n",
    "\n",
    "            # Tokenize the input question\n",
    "            input_ids = tokenizer(question, return_tensors=\"pt\", padding=True, truncation=True).input_ids\n",
    "            \n",
    "           # Generate answers from the original model\n",
    "            original_outputs = original_model.generate(input_ids, max_length=128)  # Specify max_length here\n",
    "            original_output_text = tokenizer.decode(original_outputs[0], skip_special_tokens=True)\n",
    "            \n",
    "            # Generate answers from the fine-tuned model\n",
    "            fine_tuned_outputs = fine_tuned_model.base_model.generate(input_ids, max_length=128, no_repeat_ngram_size=3,top_k=50, top_p=0.95)\n",
    "            fine_tuned_output_text = tokenizer.decode(fine_tuned_outputs[0], skip_special_tokens=True)\n",
    "\n",
    "            # Append results to the lists\n",
    "            questions.append(question)\n",
    "            human_answers.append(human_answer)\n",
    "            original_answers.append(original_output_text)\n",
    "            fine_tuned_answers.append(fine_tuned_output_text)\n",
    "\n",
    "    # Create a DataFrame to compare the results\n",
    "    comparison_df = pd.DataFrame({\n",
    "        'Question': questions,\n",
    "        'Human Answer': human_answers,\n",
    "        'Original Model Answer': original_answers,\n",
    "        'Fine-tuned Model Answer': fine_tuned_answers\n",
    "    })\n",
    "\n",
    "    return comparison_df\n",
    "\n",
    "# Example usage\n",
    "comparison_df = generate_comparison_dataframe(original_model, fine_tuned_model, tokenizer)\n",
    "\n",
    "# Display the DataFrame\n",
    "comparison_df\n"
   ]
  },
  {
   "cell_type": "code",
   "execution_count": 37,
   "id": "34cdde52-1112-4e95-b67d-fa9f8ad39165",
   "metadata": {},
   "outputs": [],
   "source": [
    "comparison_df.to_excel('flanT5_LoRA_final_result.xlsx')"
   ]
  },
  {
   "cell_type": "code",
   "execution_count": 38,
   "id": "0c8181df-9056-42e4-86bb-5ff02f5c4b30",
   "metadata": {},
   "outputs": [
    {
     "name": "stdout",
     "output_type": "stream",
     "text": [
      "<class 'pandas.core.frame.DataFrame'>\n",
      "RangeIndex: 300 entries, 0 to 299\n",
      "Data columns (total 4 columns):\n",
      " #   Column                   Non-Null Count  Dtype \n",
      "---  ------                   --------------  ----- \n",
      " 0   Question                 300 non-null    object\n",
      " 1   Human Answer             300 non-null    object\n",
      " 2   Original Model Answer    300 non-null    object\n",
      " 3   Fine-tuned Model Answer  300 non-null    object\n",
      "dtypes: object(4)\n",
      "memory usage: 9.5+ KB\n"
     ]
    }
   ],
   "source": [
    "comparison_df.info()"
   ]
  },
  {
   "cell_type": "code",
   "execution_count": 39,
   "id": "0c2b3ecb-e36d-4ade-91e6-a6e4b6e8d725",
   "metadata": {},
   "outputs": [
    {
     "name": "stdout",
     "output_type": "stream",
     "text": [
      "Original ROUGE and BLEU Scores:\n",
      "  rouge1: 0.0411\n",
      "  rouge2: 0.0044\n",
      "  rougeL: 0.0346\n",
      "  rouge_sum: 0.0267\n",
      "  bleu: 0.0011\n",
      "\n",
      "Fine-tuned ROUGE and BLEU Scores:\n",
      "  rouge1: 0.2231\n",
      "  rouge2: 0.0398\n",
      "  rougeL: 0.1362\n",
      "  rouge_sum: 0.1330\n",
      "  bleu: 0.0116\n",
      "\n",
      "ROUGE and BLEU Improvement:\n",
      "  rouge1: 442.91%\n",
      "  rouge2: 803.53%\n",
      "  rougeL: 293.24%\n",
      "  rouge_sum: 398.07%\n",
      "  bleu: 990.37%\n"
     ]
    }
   ],
   "source": [
    "from transformers import T5ForConditionalGeneration, T5Tokenizer\n",
    "from rouge_score import rouge_scorer\n",
    "from nltk.translate.bleu_score import sentence_bleu, SmoothingFunction\n",
    "import pandas as pd\n",
    "import torch\n",
    "\n",
    "# Function to calculate ROUGE scores\n",
    "def calculate_rouge_scores(human_answers, model_answers):\n",
    "    scorer = rouge_scorer.RougeScorer(['rouge1', 'rouge2', 'rougeL'], use_stemmer=True)\n",
    "    rouge_scores = {'rouge1': 0.0, 'rouge2': 0.0, 'rougeL': 0.0, 'rouge_sum': 0.0}\n",
    "    \n",
    "    for human, model in zip(human_answers, model_answers):\n",
    "        scores = scorer.score(human, model)\n",
    "        rouge_scores['rouge1'] += scores['rouge1'].fmeasure\n",
    "        rouge_scores['rouge2'] += scores['rouge2'].fmeasure\n",
    "        rouge_scores['rougeL'] += scores['rougeL'].fmeasure\n",
    "    \n",
    "    # Average the scores\n",
    "    total_samples = len(human_answers)\n",
    "    if total_samples > 0:\n",
    "        for metric in rouge_scores:\n",
    "            rouge_scores[metric] /= total_samples\n",
    "            \n",
    "        # Calculate ROUGE sum\n",
    "        rouge_scores['rouge_sum'] = (rouge_scores['rouge1'] + \n",
    "                                      rouge_scores['rouge2'] + \n",
    "                                      rouge_scores['rougeL']) / 3  # Average of the ROUGE scores\n",
    "\n",
    "    return rouge_scores\n",
    "\n",
    "# Function to calculate BLEU score\n",
    "def calculate_bleu_scores(human_answers, model_answers):\n",
    "    chencherry = SmoothingFunction()\n",
    "    bleu_score_total = 0.0\n",
    "    \n",
    "    for human, model in zip(human_answers, model_answers):\n",
    "        reference = [human.split()]  # Reference needs to be a list of lists of tokens\n",
    "        candidate = model.split()    # Candidate is a single list of tokens\n",
    "        bleu_score_total += sentence_bleu(reference, candidate, smoothing_function=chencherry.method1)\n",
    "    \n",
    "    # Calculate average BLEU score\n",
    "    total_samples = len(human_answers)\n",
    "    average_bleu = bleu_score_total / total_samples if total_samples > 0 else 0.0\n",
    "\n",
    "    return average_bleu\n",
    "\n",
    "# Function to calculate ROUGE and BLEU improvement\n",
    "def calculate_improvement(original_scores, fine_tuned_scores):\n",
    "    improvement = {}\n",
    "    \n",
    "    for metric in original_scores.keys():  # Include 'rouge1', 'rouge2', 'rougeL', 'rouge_sum', 'bleu'\n",
    "        original_score = original_scores[metric]\n",
    "        fine_tuned_score = fine_tuned_scores[metric]\n",
    "        \n",
    "        if original_score == 0:\n",
    "            if fine_tuned_score > 0:\n",
    "                improvement[metric] = float('inf')  # Infinite improvement if the original score is zero\n",
    "            else:\n",
    "                improvement[metric] = 0.0\n",
    "        else:\n",
    "            improvement[metric] = ((fine_tuned_score - original_score) / abs(original_score)) * 100\n",
    "\n",
    "    return improvement\n",
    "\n",
    "# Assuming comparison_df is already created and populated with the necessary data\n",
    "if 'comparison_df' in locals():\n",
    "    # Extract human answers and model answers from the DataFrame\n",
    "    human_answers = comparison_df['Human Answer'].tolist()\n",
    "    original_answers = comparison_df['Original Model Answer'].tolist()\n",
    "    fine_tuned_answers = comparison_df['Fine-tuned Model Answer'].tolist()\n",
    "\n",
    "    # Calculate ROUGE scores for both models\n",
    "    original_rouge_scores = calculate_rouge_scores(human_answers, original_answers)\n",
    "    fine_tuned_rouge_scores = calculate_rouge_scores(human_answers, fine_tuned_answers)\n",
    "    \n",
    "    # Calculate BLEU scores for both models\n",
    "    original_bleu_score = calculate_bleu_scores(human_answers, original_answers)\n",
    "    fine_tuned_bleu_score = calculate_bleu_scores(human_answers, fine_tuned_answers)\n",
    "\n",
    "    # Combine scores for improvement calculation\n",
    "    original_scores = {**original_rouge_scores, 'bleu': original_bleu_score}\n",
    "    fine_tuned_scores = {**fine_tuned_rouge_scores, 'bleu': fine_tuned_bleu_score}\n",
    "\n",
    "    # Calculate improvement\n",
    "    improvement = calculate_improvement(original_scores, fine_tuned_scores)\n",
    "\n",
    "    # Display results with formatting\n",
    "    print(\"Original ROUGE and BLEU Scores:\")\n",
    "    for key, value in original_scores.items():\n",
    "        print(f\"  {key}: {value:.4f}\")\n",
    "\n",
    "    print(\"\\nFine-tuned ROUGE and BLEU Scores:\")\n",
    "    for key, value in fine_tuned_scores.items():\n",
    "        print(f\"  {key}: {value:.4f}\")\n",
    "\n",
    "    print(\"\\nROUGE and BLEU Improvement:\")\n",
    "    for key, value in improvement.items():\n",
    "        print(f\"  {key}: {value:.2f}%\")\n",
    "else:\n",
    "    print(\"Error: comparison_df is not defined.\")\n"
   ]
  },
  {
   "cell_type": "markdown",
   "id": "73f772ed-29e5-4cb8-8a43-dd6ec3016c39",
   "metadata": {},
   "source": [
    "# For Demo"
   ]
  },
  {
   "cell_type": "markdown",
   "id": "6c2ec84f-b8d9-45f6-b601-c9df21abe1e6",
   "metadata": {},
   "source": [
    "### Run if need to load the model"
   ]
  },
  {
   "cell_type": "code",
   "execution_count": 1,
   "id": "6bd56ac6-8311-4b8b-ab53-90dd0ce7f732",
   "metadata": {},
   "outputs": [
    {
     "name": "stderr",
     "output_type": "stream",
     "text": [
      "The installed version of bitsandbytes was compiled without GPU support. 8-bit optimizers, 8-bit multiplication, and GPU quantization are unavailable.\n",
      "You are using the default legacy behaviour of the <class 'transformers.models.t5.tokenization_t5.T5Tokenizer'>. This is expected, and simply means that the `legacy` (previous) behavior will be used so nothing changes for you. If you want to use the new behaviour, set `legacy=False`. This should only be set if you understand what it means, and thoroughly read the reason why this was added as explained in https://github.com/huggingface/transformers/pull/24565\n"
     ]
    }
   ],
   "source": [
    "from transformers import T5ForConditionalGeneration, T5Tokenizer\n",
    "from peft import LoraConfig, get_peft_model, TaskType, PeftConfig, PeftModel\n",
    "\n",
    "# Load models\n",
    "original_model = T5ForConditionalGeneration.from_pretrained(\"google/flan-t5-base\")\n",
    "base_model = T5ForConditionalGeneration.from_pretrained(\"google/flan-t5-base\")\n",
    "adapter_config = PeftConfig.from_pretrained(\"./best_model_flan_t5_LoRA\")\n",
    "fine_tuned_model = PeftModel.from_pretrained(base_model,\"./best_model_flan_t5_LoRA\", adapter_config=adapter_config)\n",
    "\n",
    "# Load the tokenizer (same for both models)\n",
    "tokenizer = T5Tokenizer.from_pretrained(\"google/flan-t5-base\")"
   ]
  },
  {
   "cell_type": "code",
   "execution_count": 42,
   "id": "3292da5a-8b43-4fa8-b3ea-b5cd18aeac78",
   "metadata": {},
   "outputs": [
    {
     "name": "stdout",
     "output_type": "stream",
     "text": [
      "----------------------------------------------------------------------\n",
      "Questions:\n",
      "answer the medical question: what is a seizure and what is epilepsy\n",
      "----------------------------------------------------------------------\n",
      "Original Model Output:\n",
      "seizure\n",
      "----------------------------------------------------------------------\n",
      "Fine-tuned Model Output:\n",
      "seizure is a seizured seizurite is characterized by a sudden loss of consciousness or loss of sensation or sensation of consciousness a severe seizurage is referred to as a syphilis seizurance or seizuris epilepsy is primarily a neurological disorder that occurs when the brain is inactive and the seizuritis is triggered by underlying causes such as traumatic events such as trauma or a stroke epilepsia is largely a result of a brain injury or traumatic event such as an accident or s\n",
      "----------------------------------------------------------------------\n"
     ]
    }
   ],
   "source": [
    "from transformers import T5ForConditionalGeneration, T5Tokenizer\n",
    "import pandas as pd\n",
    "import torch\n",
    "from tqdm import tqdm  # Import tqdm for progress tracking\n",
    "\n",
    "\n",
    "def generate_comparison(question):\n",
    "    \"\"\"\n",
    "    Given an input from user, generate the output from both original and fine tuned model\n",
    "\n",
    "    Args:\n",
    "        original_model: The pre-trained model (original).\n",
    "        fine_tuned_model: The fine-tuned model.\n",
    "        tokenizer: The tokenizer used for both models.\n",
    "\n",
    "    Returns:\n",
    "        comparison_df: DataFrame containing questions, human answers, original and fine-tuned model outputs.\n",
    "    \"\"\"\n",
    "    # Ensure both models are in evaluation mode\n",
    "    original_model.eval()\n",
    "    fine_tuned_model.eval()\n",
    "\n",
    "    # Generate predictions for each question in the train DataFrame\n",
    "    with torch.no_grad():\n",
    "\n",
    "        # Tokenize the input question\n",
    "        input_ids = tokenizer(question, return_tensors=\"pt\", padding=True, truncation=True).input_ids\n",
    "        \n",
    "       # Generate answers from the original model\n",
    "        original_outputs = original_model.generate(input_ids,max_length=128)  # Specify max_length here\n",
    "        original_output_text = tokenizer.decode(original_outputs[0], skip_special_tokens=True)\n",
    "        \n",
    "        # Generate answers from the fine-tuned model\n",
    "        fine_tuned_outputs = fine_tuned_model.base_model.generate(input_ids, max_length=128, no_repeat_ngram_size=3,top_k=50, top_p=0.95)\n",
    "        fine_tuned_output_text = tokenizer.decode(fine_tuned_outputs[0], skip_special_tokens=True)\n",
    "\n",
    "\n",
    "    # Display results with formatting\n",
    "    print(\"----------------------------------------------------------------------\")\n",
    "    print(\"Questions:\")\n",
    "    print(question)\n",
    "    print(\"----------------------------------------------------------------------\")\n",
    "    print(\"Original Model Output:\")\n",
    "    print(original_output_text)\n",
    "    print(\"----------------------------------------------------------------------\")\n",
    "    print(\"Fine-tuned Model Output:\")\n",
    "    print(fine_tuned_output_text)\n",
    "    print(\"----------------------------------------------------------------------\")\n",
    "        \n",
    "\n",
    "formatted = \"answer the medical question: \"\n",
    "# question = \"is there a generic form of plavix if not what is clopidogrel\"\n",
    "# question = \"i use xonepex in my nebulizer for my emphysema could i use a watered down solution of vicks vapor steam in my nebulizer what would be the side effects in doing this it would be a mild solution and not a replacement for my xonepex i also use a cpap to sleep with at night could i put a drop of vicks vapor steam in my water tank to breath in instead of just plain water\"\n",
    "# question = \"what is migraine without aura\"\n",
    "# question = \"can you be allergic to mold in your food\"\n",
    "question = \"what is a seizure and what is epilepsy\"\n",
    "# question = \"what are the symptoms of gallstones\"\n",
    "generate_comparison(formatted + question)"
   ]
  },
  {
   "cell_type": "code",
   "execution_count": null,
   "id": "bba0e69a-650e-418e-b90c-d2a381e812cf",
   "metadata": {},
   "outputs": [],
   "source": []
  }
 ],
 "metadata": {
  "kernelspec": {
   "display_name": "Python 3 (ipykernel)",
   "language": "python",
   "name": "python3"
  },
  "language_info": {
   "codemirror_mode": {
    "name": "ipython",
    "version": 3
   },
   "file_extension": ".py",
   "mimetype": "text/x-python",
   "name": "python",
   "nbconvert_exporter": "python",
   "pygments_lexer": "ipython3",
   "version": "3.9.18"
  }
 },
 "nbformat": 4,
 "nbformat_minor": 5
}
